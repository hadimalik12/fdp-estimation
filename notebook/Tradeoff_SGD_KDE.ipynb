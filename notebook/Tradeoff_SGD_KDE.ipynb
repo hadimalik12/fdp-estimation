{
 "cells": [
  {
   "cell_type": "code",
   "execution_count": null,
   "metadata": {},
   "outputs": [],
   "source": [
    "import numpy as np\n",
    "import pandas as pd\n",
    "import os\n",
    "import sys\n",
    "import rpy2.robjects as robjects\n",
    "\n",
    "# Set R library path for all R sessions\n",
    "robjects.r('.libPaths(\"/home/snek/R/x86_64-pc-linux-gnu-library/4.1\")')\n",
    "os.environ['R_LIBS_SITE'] = \"/home/snek/R/x86_64-pc-linux-gnu-library/4.1\"\n",
    "\n",
    "# Debugging: Print current R library paths\n",
    "print(\"Current R library paths:\", robjects.r('.libPaths()'))\n",
    "\n",
    "# Add the path to the `src/estimator/` directory\n",
    "project_root = os.path.abspath(os.path.join(os.getcwd(), '..', 'src'))\n",
    "sys.path.append(project_root)\n",
    "\n",
    "# Import KDE_Estimator from estimator_kde\n",
    "from estimator.estimator_kde import KDE_Estimator\n",
    "\n",
    "# Define Noisy_SGD\n",
    "def Noisy_SGD(x, theta_0, T_, m, eta_learn, sigma):\n",
    "    theta = np.float64(theta_0)\n",
    "    for _ in range(T_):\n",
    "        x_subsample = np.random.choice(x, size=m, replace=False)\n",
    "        theta -= eta_learn * (np.sum(theta - x_subsample, dtype=np.float64) / m + np.random.normal(0, sigma))\n",
    "    return theta"
   ]
  },
  {
   "cell_type": "code",
   "execution_count": 8,
   "metadata": {},
   "outputs": [],
   "source": [
    "theta_0 = np.float64(0)\n",
    "m = 5\n",
    "eta_learn = 0.2\n",
    "T_ = 10\n",
    "n = 10\n",
    "x1 = np.zeros(n, dtype=np.float64)\n",
    "x2 = np.array([1] + [0] * (n - 1), dtype=np.float64)\n",
    "sigma=0.2\n",
    "eta_max=15\n",
    "N=10**5\n",
    "h=0.1"
   ]
  },
  {
   "cell_type": "code",
   "execution_count": null,
   "metadata": {},
   "outputs": [],
   "source": [
    "import time\n",
    "\n",
    "# Placeholder for KDE_Estimator function and its parameters\n",
    "# Ensure KDE_Estimator and all parameters (eta_max, Sum_Gauss, x1, x2, N, h) are defined\n",
    "\n",
    "# Initialize variables\n",
    "num_runs = 10\n",
    "running_times = []\n",
    "\n",
    "# Run the function 10 times and record running times\n",
    "for _ in range(num_runs):\n",
    "    start_time = time.time()\n",
    "    Mechanism = lambda x: Noisy_SGD(x, theta_0, T_, m, eta_learn, sigma)\n",
    "    output_df = KDE_Estimator(eta_max=eta_max, Mechanism=Mechanism, x1=x1, x2=x2, N=N, h=h)\n",
    "    end_time = time.time()\n",
    "    running_times.append(end_time - start_time)\n",
    "\n",
    "# Compute average running time\n",
    "average_time = sum(running_times) / num_runs\n",
    "\n",
    "# Display the results\n",
    "print(f\"Average Running Time: {average_time:.6f} seconds\")\n",
    "print(f\"Individual Running Times: {running_times}\")"
   ]
  }
 ],
 "metadata": {
  "kernelspec": {
   "display_name": "Python 3",
   "language": "python",
   "name": "python3"
  },
  "language_info": {
   "codemirror_mode": {
    "name": "ipython",
    "version": 3
   },
   "file_extension": ".py",
   "mimetype": "text/x-python",
   "name": "python",
   "nbconvert_exporter": "python",
   "pygments_lexer": "ipython3",
   "version": "3.10.12"
  }
 },
 "nbformat": 4,
 "nbformat_minor": 2
}
