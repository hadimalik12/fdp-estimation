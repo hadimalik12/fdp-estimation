{
 "cells": [
  {
   "cell_type": "code",
   "execution_count": 6,
   "id": "166863bc-eb8c-4ca6-9ef7-170a7b64faef",
   "metadata": {},
   "outputs": [
    {
     "name": "stderr",
     "output_type": "stream",
     "text": [
      "Matplotlib is building the font cache; this may take a moment.\n"
     ]
    },
    {
     "ename": "ModuleNotFoundError",
     "evalue": "No module named 'sklearn'",
     "output_type": "error",
     "traceback": [
      "\u001b[0;31m---------------------------------------------------------------------------\u001b[0m",
      "\u001b[0;31mModuleNotFoundError\u001b[0m                       Traceback (most recent call last)",
      "Cell \u001b[0;32mIn[6], line 20\u001b[0m\n\u001b[1;32m     17\u001b[0m \u001b[38;5;28;01mfrom\u001b[39;00m \u001b[38;5;21;01manalysis\u001b[39;00m\u001b[38;5;21;01m.\u001b[39;00m\u001b[38;5;21;01mtradeoff_Laplace\u001b[39;00m \u001b[38;5;28;01mimport\u001b[39;00m Laplace_compute_tradeoff_curve\n\u001b[1;32m     18\u001b[0m \u001b[38;5;28;01mfrom\u001b[39;00m \u001b[38;5;21;01manalysis\u001b[39;00m\u001b[38;5;21;01m.\u001b[39;00m\u001b[38;5;21;01maccuracy_analysis\u001b[39;00m \u001b[38;5;28;01mimport\u001b[39;00m acc_evaluate\n\u001b[0;32m---> 20\u001b[0m \u001b[38;5;28;01mfrom\u001b[39;00m \u001b[38;5;21;01mmech\u001b[39;00m\u001b[38;5;21;01m.\u001b[39;00m\u001b[38;5;21;01mGaussianDist\u001b[39;00m \u001b[38;5;28;01mimport\u001b[39;00m \u001b[38;5;241m*\u001b[39m\n\u001b[1;32m     21\u001b[0m \u001b[38;5;28;01mfrom\u001b[39;00m \u001b[38;5;21;01mclassifier\u001b[39;00m\u001b[38;5;21;01m.\u001b[39;00m\u001b[38;5;21;01mkNN\u001b[39;00m \u001b[38;5;28;01mimport\u001b[39;00m train_kNN_model\n",
      "File \u001b[0;32m~/fdp-estimation/src/mech/GaussianDist.py:7\u001b[0m\n\u001b[1;32m      4\u001b[0m \u001b[38;5;28;01mfrom\u001b[39;00m \u001b[38;5;21;01mnumpy\u001b[39;00m\u001b[38;5;21;01m.\u001b[39;00m\u001b[38;5;21;01mrandom\u001b[39;00m \u001b[38;5;28;01mimport\u001b[39;00m MT19937, RandomState\n\u001b[1;32m      6\u001b[0m \u001b[38;5;28;01mfrom\u001b[39;00m \u001b[38;5;21;01mutils\u001b[39;00m\u001b[38;5;21;01m.\u001b[39;00m\u001b[38;5;21;01mutils\u001b[39;00m \u001b[38;5;28;01mimport\u001b[39;00m _ensure_2dim, DUMMY_CONSTANT, _ensure_np_array\n\u001b[0;32m----> 7\u001b[0m \u001b[38;5;28;01mfrom\u001b[39;00m \u001b[38;5;21;01mestimator\u001b[39;00m\u001b[38;5;21;01m.\u001b[39;00m\u001b[38;5;21;01mbasic\u001b[39;00m \u001b[38;5;28;01mimport\u001b[39;00m _GeneralNaiveEstimator\n\u001b[1;32m     10\u001b[0m \u001b[38;5;28;01mclass\u001b[39;00m \u001b[38;5;21;01mGaussianDistSampler\u001b[39;00m:\n\u001b[1;32m     11\u001b[0m     \u001b[38;5;124;03m\"\"\"\u001b[39;00m\n\u001b[1;32m     12\u001b[0m \u001b[38;5;124;03m        The sampler takes as inputs a pair of Gaussian Distribution (parameterized with mean vector and Covariance matrix).\u001b[39;00m\n\u001b[1;32m     13\u001b[0m \u001b[38;5;124;03m        It preprocess and generate N data samples from each distribution. \u001b[39;00m\n\u001b[1;32m     14\u001b[0m \u001b[38;5;124;03m        It generate a sample set with given eta from the preprocessed dataset\u001b[39;00m\n\u001b[1;32m     15\u001b[0m \u001b[38;5;124;03m    \"\"\"\u001b[39;00m\n",
      "File \u001b[0;32m~/fdp-estimation/src/estimator/basic.py:14\u001b[0m\n\u001b[1;32m     11\u001b[0m \u001b[38;5;28;01mfrom\u001b[39;00m \u001b[38;5;21;01mnumpy\u001b[39;00m\u001b[38;5;21;01m.\u001b[39;00m\u001b[38;5;21;01mrandom\u001b[39;00m \u001b[38;5;28;01mimport\u001b[39;00m MT19937, RandomState\n\u001b[1;32m     12\u001b[0m \u001b[38;5;28;01mfrom\u001b[39;00m \u001b[38;5;21;01mutils\u001b[39;00m\u001b[38;5;21;01m.\u001b[39;00m\u001b[38;5;21;01mutils\u001b[39;00m \u001b[38;5;28;01mimport\u001b[39;00m DUMMY_CONSTANT, _ensure_np_array\n\u001b[0;32m---> 14\u001b[0m \u001b[38;5;28;01mfrom\u001b[39;00m \u001b[38;5;21;01mclassifier\u001b[39;00m\u001b[38;5;21;01m.\u001b[39;00m\u001b[38;5;21;01mkNN\u001b[39;00m \u001b[38;5;28;01mimport\u001b[39;00m train_kNN_model\n\u001b[1;32m     16\u001b[0m \u001b[38;5;28;01mclass\u001b[39;00m \u001b[38;5;21;01m_GeneralNaiveEstimator\u001b[39;00m:\n\u001b[1;32m     17\u001b[0m     \u001b[38;5;28;01mdef\u001b[39;00m \u001b[38;5;21m__init__\u001b[39m(\u001b[38;5;28mself\u001b[39m, kwargs):\n",
      "File \u001b[0;32m~/fdp-estimation/src/classifier/kNN.py:7\u001b[0m\n\u001b[1;32m      4\u001b[0m \u001b[38;5;28;01mimport\u001b[39;00m \u001b[38;5;21;01msys\u001b[39;00m\n\u001b[1;32m      5\u001b[0m \u001b[38;5;28;01mimport\u001b[39;00m \u001b[38;5;21;01mos\u001b[39;00m\n\u001b[0;32m----> 7\u001b[0m \u001b[38;5;28;01mfrom\u001b[39;00m \u001b[38;5;21;01msklearn\u001b[39;00m \u001b[38;5;28;01mimport\u001b[39;00m neighbors\n\u001b[1;32m      8\u001b[0m \u001b[38;5;28;01mfrom\u001b[39;00m \u001b[38;5;21;01msklearn\u001b[39;00m\u001b[38;5;21;01m.\u001b[39;00m\u001b[38;5;21;01mneighbors\u001b[39;00m \u001b[38;5;28;01mimport\u001b[39;00m KDTree\n\u001b[1;32m     10\u001b[0m \u001b[38;5;28;01mfrom\u001b[39;00m \u001b[38;5;21;01mutils\u001b[39;00m\u001b[38;5;21;01m.\u001b[39;00m\u001b[38;5;21;01mutils\u001b[39;00m \u001b[38;5;28;01mimport\u001b[39;00m convert_bytes_to_gb, convert_gb_to_bytes\n",
      "\u001b[0;31mModuleNotFoundError\u001b[0m: No module named 'sklearn'"
     ]
    }
   ],
   "source": [
    "import numpy as np\n",
    "from scipy.special import erf\n",
    "import os\n",
    "import sys\n",
    "import time\n",
    "import logging\n",
    "import matplotlib.pyplot as plt\n",
    "\n",
    "# Navigate to the parent directory of the project structure\n",
    "project_dir = os.path.abspath(os.path.join(os.getcwd(), '..'))\n",
    "src_dir = os.path.join(project_dir, 'src')\n",
    "\n",
    "# Add the src directory to sys.path\n",
    "sys.path.append(src_dir)\n",
    "\n",
    "from analysis.tradeoff_Gaussian import Gaussian_compute_tradeoff_curve\n",
    "from analysis.tradeoff_Laplace import Laplace_compute_tradeoff_curve\n",
    "from analysis.accuracy_analysis import acc_evaluate\n",
    "\n",
    "from mech.GaussianDist import *\n",
    "from classifier.kNN import train_kNN_model"
   ]
  },
  {
   "cell_type": "code",
   "execution_count": null,
   "id": "f6facff0-c766-4869-87f0-8f88c09c8781",
   "metadata": {},
   "outputs": [],
   "source": [
    "num_train_samples = 10000\n",
    "num_test_samples = 100000\n",
    "estimator_params = generate_params(num_train_samples = num_train_samples, num_test_samples = num_test_samples)\n",
    "eta_array = np.linspace(0.01, 5, 100)\n",
    "nworkers = 50\n",
    "\n",
    "log_dir = os.path.join(project_dir, 'log')"
   ]
  },
  {
   "cell_type": "code",
   "execution_count": null,
   "id": "534668fd-2958-441b-af2e-144071af4258",
   "metadata": {},
   "outputs": [],
   "source": [
    "logfile_path = os.path.join(log_dir, 'tradeoff-kNN-Gaussian.log')\n",
    "logging.basicConfig(\n",
    "    level=logging.INFO,\n",
    "    format=\"%(asctime)s %(message)s\",\n",
    "    handlers=[\n",
    "        logging.FileHandler(logfile_path)\n",
    "        # logging.StreamHandler()\n",
    "    ]\n",
    ")"
   ]
  },
  {
   "cell_type": "code",
   "execution_count": null,
   "id": "73639bc2-3eaa-4145-a376-55b77f526841",
   "metadata": {},
   "outputs": [],
   "source": [
    "for num_train_samples in [10**8]:\n",
    "    estimator_params = generate_params(num_train_samples = num_train_samples, num_test_samples = num_test_samples)\n",
    "    \n",
    "    acc_evaluate(\n",
    "        thm_tradeoff_func = Gaussian_compute_tradeoff_curve, \n",
    "        estimator_cls = GaussianDistEstimator, \n",
    "        estimator_params = estimator_params, \n",
    "        eta_array = eta_array, \n",
    "        num_train_samples = num_train_samples, \n",
    "        logfile_path = logfile_path, \n",
    "        nworkers=nworkers)"
   ]
  },
  {
   "cell_type": "code",
   "execution_count": null,
   "id": "465ba0c3-00e0-44ab-b793-c55a3e642d17",
   "metadata": {},
   "outputs": [],
   "source": []
  }
 ],
 "metadata": {
  "kernelspec": {
   "display_name": "Python 3",
   "language": "python",
   "name": "python3"
  },
  "language_info": {
   "codemirror_mode": {
    "name": "ipython",
    "version": 3
   },
   "file_extension": ".py",
   "mimetype": "text/x-python",
   "name": "python",
   "nbconvert_exporter": "python",
   "pygments_lexer": "ipython3",
   "version": "3.10.12"
  }
 },
 "nbformat": 4,
 "nbformat_minor": 5
}
