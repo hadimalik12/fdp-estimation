{
 "cells": [
  {
   "cell_type": "code",
   "execution_count": 1,
   "id": "166863bc-eb8c-4ca6-9ef7-170a7b64faef",
   "metadata": {},
   "outputs": [],
   "source": [
    "import numpy as np\n",
    "from scipy.special import erf\n",
    "import os\n",
    "import sys\n",
    "import time\n",
    "import logging\n",
    "import matplotlib.pyplot as plt\n",
    "\n",
    "# Navigate to the parent directory of the project structure\n",
    "project_dir = os.path.abspath(os.path.join(os.getcwd(), '..'))\n",
    "src_dir = os.path.join(project_dir, 'src')\n",
    "\n",
    "# Add the src directory to sys.path\n",
    "sys.path.append(src_dir)\n",
    "\n",
    "from analysis.tradeoff_Gaussian import Gaussian_compute_tradeoff_curve\n",
    "from analysis.tradeoff_Laplace import Laplace_compute_tradeoff_curve\n",
    "from analysis.accuracy_analysis import acc_evaluate\n",
    "\n",
    "from mech.GaussianDist import *\n",
    "from classifier.kNN import train_kNN_model"
   ]
  },
  {
   "cell_type": "code",
   "execution_count": 2,
   "id": "f6facff0-c766-4869-87f0-8f88c09c8781",
   "metadata": {},
   "outputs": [],
   "source": [
    "num_train_samples = 10000\n",
    "num_test_samples = 100000\n",
    "estimator_params = generate_params(num_train_samples = num_train_samples, num_test_samples = num_test_samples)\n",
    "eta_array = np.linspace(0.01, 5, 100)\n",
    "nworkers = 50\n",
    "\n",
    "log_dir = os.path.join(project_dir, 'log')"
   ]
  },
  {
   "cell_type": "code",
   "execution_count": 3,
   "id": "534668fd-2958-441b-af2e-144071af4258",
   "metadata": {},
   "outputs": [],
   "source": [
    "logfile_path = os.path.join(log_dir, 'tradeoff-kNN-Gaussian.log')\n",
    "logging.basicConfig(\n",
    "    level=logging.INFO,\n",
    "    format=\"%(asctime)s %(message)s\",\n",
    "    handlers=[\n",
    "        logging.FileHandler(logfile_path)\n",
    "        # logging.StreamHandler()\n",
    "    ]\n",
    ")"
   ]
  },
  {
   "cell_type": "code",
   "execution_count": 4,
   "id": "73639bc2-3eaa-4145-a376-55b77f526841",
   "metadata": {},
   "outputs": [],
   "source": [
    "for num_train_samples in [10**5]:\n",
    "    estimator_params = generate_params(num_train_samples = num_train_samples, num_test_samples = num_test_samples)\n",
    "    \n",
    "    acc_evaluate(\n",
    "        thm_tradeoff_func = Gaussian_compute_tradeoff_curve, \n",
    "        estimator_cls = GaussianDistEstimator, \n",
    "        estimator_params = estimator_params, \n",
    "        eta_array = eta_array, \n",
    "        num_train_samples = num_train_samples, \n",
    "        logfile_path = logfile_path, \n",
    "        nworkers=nworkers)"
   ]
  },
  {
   "cell_type": "code",
   "execution_count": null,
   "id": "465ba0c3-00e0-44ab-b793-c55a3e642d17",
   "metadata": {},
   "outputs": [],
   "source": []
  }
 ],
 "metadata": {
  "kernelspec": {
   "display_name": "Python 3.9 (Default)",
   "language": "python",
   "name": "python3"
  },
  "language_info": {
   "codemirror_mode": {
    "name": "ipython",
    "version": 3
   },
   "file_extension": ".py",
   "mimetype": "text/x-python",
   "name": "python",
   "nbconvert_exporter": "python",
   "pygments_lexer": "ipython3",
   "version": "3.9.7"
  }
 },
 "nbformat": 4,
 "nbformat_minor": 5
}
