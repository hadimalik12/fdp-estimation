{
 "cells": [
  {
   "cell_type": "code",
   "execution_count": 4,
   "metadata": {},
   "outputs": [],
   "source": [
    "import numpy as np\n",
    "import os\n",
    "import sys\n",
    "import time\n",
    "import logging\n",
    "import matplotlib.pyplot as plt\n",
    "import pandas as pd\n",
    "from scipy.interpolate import interp1d\n",
    "from scipy.stats import norm\n",
    "\n",
    "# Navigate to the parent directory of the project structure\n",
    "project_dir = os.path.abspath(os.path.join(os.getcwd(), '..'))\n",
    "src_dir = os.path.join(project_dir, 'src')\n",
    "\n",
    "# Add the src directory to sys.path\n",
    "sys.path.append(src_dir)\n",
    "\n",
    "import mech.GaussianDist as GaussianModule\n",
    "import mech.LapDist as LaplaceModule\n",
    "import mech.toy_DPSGD as DP_SGDModule\n",
    "import mech.Subsampling as SubsamplingModule\n",
    "\n",
    "from estimator.estimator_kde import KDE_Estimator\n"
   ]
  },
  {
   "cell_type": "code",
   "execution_count": 5,
   "metadata": {},
   "outputs": [],
   "source": [
    "# Define Proposed curve\n",
    "\n",
    "\n",
    "#Example Gaussian_curve\n",
    "\n",
    "mu_2 = 1\n",
    "\n",
    "def Gaussian_curve(alpha):\n",
    "    return norm.cdf(norm.ppf(1 - alpha) - mu_2)"
   ]
  },
  {
   "cell_type": "code",
   "execution_count": 10,
   "metadata": {},
   "outputs": [],
   "source": [
    "###Identifying critical point using KDE\n",
    "n_1 = 10**5  # Default value\n",
    "h = .1  # Default value\n",
    "eta_max = 15 #Default value\n",
    "\n",
    "#Define neighboring databases\n",
    "x1 = np.array([1] + [0] * 9)\n",
    "x2 = np.zeros(10)\n",
    "\n",
    "# Evaluate mechanism function on x_1 and x_2\n",
    "sigma=1\n",
    "\n",
    "def Sum_Gauss(x):\n",
    "    s = np.sum(x) + np.random.normal(0, sigma)\n",
    "    return s\n",
    "\n",
    "# Run KDE_Estimator\n",
    "output_df = pd.DataFrame(KDE_Estimator(eta_max=eta_max, Mechanism=Sum_Gauss, x1=x1, x2=x2, N=n_1, h=h))"
   ]
  },
  {
   "cell_type": "code",
   "execution_count": 12,
   "metadata": {},
   "outputs": [
    {
     "name": "stdout",
     "output_type": "stream",
     "text": [
      "Critical value is: alpha: 0.00022662142680041075, beta: 0.9824621556576492\n"
     ]
    }
   ],
   "source": [
    "#Identify critical point\n",
    "# Step 1: Filter the data to only include 0 <= alpha <= 1\n",
    "filtered_data = output_df[(output_df['alpha'] >= 0) & (output_df['alpha'] <= 1)]\n",
    "\n",
    "# Step 2: Extract alpha and beta values\n",
    "alpha = filtered_data['alpha']\n",
    "beta = filtered_data['beta']\n",
    "\n",
    "# Step 3: Compute maximum deviation\n",
    "deviation_matrix = np.array(beta - Gaussian_curve(alpha))\n",
    "min_value = np.argmin(deviation_matrix)\n",
    "\n",
    "# Step 4: Retrieve the corresponding datapoint from filtered_data\n",
    "datapoint = filtered_data.iloc[min_value]\n",
    "\n",
    "# Retrieve the index of the selected datapoint in the original output_df\n",
    "index = filtered_data.index[min_value]\n",
    "\n",
    "# Extract alpha and beta values from the datapoint\n",
    "the_alpha = datapoint[\"alpha\"]\n",
    "the_beta = datapoint[\"beta\"]\n",
    "\n",
    "# Print the critical values\n",
    "print(f\"Critical value is: alpha: {the_alpha}, beta: {the_beta}\")\n",
    "eta_value=np.linspace(0,eta_max,1000)[index]"
   ]
  },
  {
   "cell_type": "code",
   "execution_count": 13,
   "metadata": {},
   "outputs": [],
   "source": [
    "test_train_sample_size = 10**6\n",
    "test_test_sample_size = 10**6\n",
    "\n",
    "eta=np.array([eta_value])\n",
    "\n",
    "kwargs = GaussianModule.generate_params(num_train_samples = test_train_sample_size, num_test_samples = test_test_sample_size)\n",
    "estimator = GaussianModule.GaussianDistEstimator(kwargs)\n",
    "output = estimator.build(eta = eta)\n",
    "beta_estimate = output[\"beta\"]\n",
    "alpha_estimate=output[\"alpha\"]"
   ]
  },
  {
   "cell_type": "code",
   "execution_count": 14,
   "metadata": {},
   "outputs": [
    {
     "name": "stdout",
     "output_type": "stream",
     "text": [
      "No Violation\n"
     ]
    }
   ],
   "source": [
    "def check_violation(beta_estimate, omega, alpha_estimate, Gaussian_curve):\n",
    "    if beta_estimate + omega < Gaussian_curve(alpha_estimate + omega):\n",
    "        return \"Violation\"\n",
    "    else:\n",
    "        return \"No Violation\"\n",
    "def compute_expression(n, gamma):\n",
    "    c_d = 3.8637  # Given value of c_d\n",
    "    result = 12 * np.sqrt((2 * c_d ** 2 / n) * np.log(4 / gamma))\n",
    "    return result\n",
    "gamma=0.05\n",
    "omega=compute_expression(10**6, gamma)\n",
    "print(check_violation(beta_estimate, alpha_estimate, omega, Gaussian_curve))"
   ]
  }
 ],
 "metadata": {
  "kernelspec": {
   "display_name": "Python 3",
   "language": "python",
   "name": "python3"
  },
  "language_info": {
   "codemirror_mode": {
    "name": "ipython",
    "version": 3
   },
   "file_extension": ".py",
   "mimetype": "text/x-python",
   "name": "python",
   "nbconvert_exporter": "python",
   "pygments_lexer": "ipython3",
   "version": "3.10.12"
  }
 },
 "nbformat": 4,
 "nbformat_minor": 2
}
