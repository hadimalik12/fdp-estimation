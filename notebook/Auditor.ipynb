{
 "cells": [
  {
   "cell_type": "code",
   "execution_count": null,
   "metadata": {},
   "outputs": [],
   "source": [
    "import numpy as np\n",
    "import os\n",
    "import sys\n",
    "import time\n",
    "import logging\n",
    "import matplotlib.pyplot as plt\n",
    "import pandas as pd\n",
    "from scipy.interpolate import interp1d\n",
    "from scipy.stats import norm\n",
    "\n",
    "# Navigate to the parent directory of the project structure\n",
    "project_dir = os.path.abspath(os.path.join(os.getcwd(), '..'))\n",
    "src_dir = os.path.join(project_dir, 'src')\n",
    "\n",
    "# Add the src directory to sys.path\n",
    "sys.path.append(src_dir)\n",
    "\n",
    "import mech.GaussianDist as GaussianModule\n",
    "import mech.LapDist as LaplaceModule\n",
    "import mech.toy_DPSGD as DP_SGDModule\n",
    "import mech.Subsampling as SubsamplingModule"
   ]
  },
  {
   "cell_type": "code",
   "execution_count": null,
   "metadata": {},
   "outputs": [],
   "source": [
    "# Define Proposed curve\n",
    "\n",
    "\n",
    "#Example Gaussian_curve\n",
    "\n",
    "mu_2 = 1\n",
    "\n",
    "def Gaussian_curve(alpha):\n",
    "    return norm.cdf(norm.ppf(1 - alpha) - mu_2)"
   ]
  },
  {
   "cell_type": "code",
   "execution_count": 1,
   "metadata": {},
   "outputs": [],
   "source": [
    "###Identifying critical point using KDE\n",
    "n_1 = 10**5  # Default value\n",
    "h = .1  # Default value\n",
    "eta_max = 15 #Default value\n",
    "\n",
    "#Define neighboring databases\n",
    "x1 = np.array([1] + [0] * 9)\n",
    "x2 = np.zeros(10)\n",
    "\n",
    "# Evaluate mechanism function on x_1 and x_2\n",
    "sigma=1\n",
    "\n",
    "def Sum_Gauss(x):\n",
    "    s = np.sum(x) + np.random.normal(0, sigma)\n",
    "    return s\n",
    "\n",
    "# Run KDE_Estimator\n",
    "output_df = KDE_Estimator(eta_max=eta_max, Mechanism=Sum_Gauss, x1=x1, x2=x2, N=N, h=h)\n",
    "\n",
    "# Step 1: Filter the data to only include 0 <= alpha <= 1\n",
    "filtered_data = output_df[(output_df['alpha'] >= 0) & (output_df['alpha'] <= 1)]\n",
    "#filtered_data = filtered_data.drop_duplicates(subset=['alpha'], keep='first')\n",
    "\n",
    "# Step 2: Extract alpha and beta values\n",
    "alpha = filtered_data['alpha']\n",
    "beta = filtered_data['beta']\n",
    "\n",
    "# Step 3: Compute maximum deviation\n",
    "deviation_matrix = np.array(beta - Gaussian_curve(alpha))\n",
    "\n",
    "#trimmed_matrix = deviation_matrix[1:-1]  # Exclude the first and last elements\n",
    "min_value = np.argmin(deviation_matrix)\n",
    "datapoint= data[data['beta'] == beta_values[min_value]]\n",
    "\n",
    "\n",
    "the_alpha=datapoint[\"alpha\"]\n",
    "the_beta=datapoint[\"beta\"]\n",
    "print(Gaussian_curve(the_alpha))\n",
    "print(the_beta)\n",
    "print(np.where(data['beta']==beta_values[min_value]))\n",
    "index=np.where(data['beta']==beta_values[min_value])\n",
    "eta_value=np.linspace(0,15,1000)[index]"
   ]
  }
 ],
 "metadata": {
  "kernelspec": {
   "display_name": "Python 3",
   "language": "python",
   "name": "python3"
  },
  "language_info": {
   "codemirror_mode": {
    "name": "ipython",
    "version": 3
   },
   "file_extension": ".py",
   "mimetype": "text/x-python",
   "name": "python",
   "nbconvert_exporter": "python",
   "pygments_lexer": "ipython3",
   "version": "3.10.12"
  }
 },
 "nbformat": 4,
 "nbformat_minor": 2
}
