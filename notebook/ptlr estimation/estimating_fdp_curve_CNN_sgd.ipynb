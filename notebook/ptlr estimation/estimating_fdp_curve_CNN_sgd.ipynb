{
 "cells": [
  {
   "cell_type": "code",
   "execution_count": 1,
   "metadata": {},
   "outputs": [],
   "source": [
    "import os\n",
    "import sys\n",
    "\n",
    "# Navigate to the parent directory of the project structure\n",
    "project_dir = os.path.abspath(os.path.join(os.getcwd(), '../..'))\n",
    "src_dir = os.path.join(project_dir, 'src')\n",
    "fig_dir = os.path.join(project_dir, 'fig')\n",
    "data_dir = os.path.join(project_dir, 'data')\n",
    "log_dir = os.path.join(project_dir, 'log')\n",
    "os.makedirs(fig_dir, exist_ok=True)\n",
    "\n",
    "# Add the src directory to sys.path\n",
    "sys.path.append(src_dir)\n",
    "\n",
    "import mech.full_DPSGD as DPSGDModule"
   ]
  },
  {
   "cell_type": "code",
   "execution_count": 2,
   "metadata": {},
   "outputs": [
    {
     "name": "stdout",
     "output_type": "stream",
     "text": [
      "Files already downloaded and verified\n"
     ]
    },
    {
     "name": "stderr",
     "output_type": "stream",
     "text": [
      "05/15/2025 12:09:19:INFO:Initialized CNN_DPSGDSampler with parameters: batch_size=512, epochs=1, lr=0.10, sigma=1.00, max_grad_norm=1.00, device=cpu\n"
     ]
    }
   ],
   "source": [
    "data_args = {\n",
    "    \"method\": \"default\",\n",
    "    \"data_dir\": data_dir,\n",
    "    \"internal_result_path\": \"/scratch/bell/wei402/fdp-estimation/results\"\n",
    "}\n",
    "\n",
    "args = DPSGDModule.generate_params(data_args=data_args, log_dir=log_dir, model_type=\"CNN\")\n",
    "sampler = DPSGDModule.CNN_DPSGDSampler(args)"
   ]
  },
  {
   "cell_type": "code",
   "execution_count": 5,
   "metadata": {},
   "outputs": [
    {
     "name": "stderr",
     "output_type": "stream",
     "text": [
      "05/15/2025 12:10:06:INFO:Found 5 existing model pairs. Need to generate 1 more.\n",
      "05/15/2025 12:10:06:INFO:Model loaded from /scratch/bell/wei402/fdp-estimation/results/model_folder/CNN_model_x0_bf2ef00babcfc3fb.pt\n",
      "05/15/2025 12:10:06:INFO:Model loaded from /scratch/bell/wei402/fdp-estimation/results/model_folder/CNN_model_x1_846663d5fa347774.pt\n",
      "05/15/2025 12:10:06:INFO:Loaded and projected model pair 1/5\n",
      "05/15/2025 12:10:06:INFO:Model loaded from /scratch/bell/wei402/fdp-estimation/results/model_folder/CNN_model_x0_b510dc3c365a9a30.pt\n",
      "05/15/2025 12:10:06:INFO:Model loaded from /scratch/bell/wei402/fdp-estimation/results/model_folder/CNN_model_x1_3cee69a762c3495e.pt\n",
      "05/15/2025 12:10:06:INFO:Loaded and projected model pair 2/5\n",
      "05/15/2025 12:10:06:INFO:Model loaded from /scratch/bell/wei402/fdp-estimation/results/model_folder/CNN_model_x0_dc33417a6e37b103.pt\n",
      "05/15/2025 12:10:06:INFO:Model loaded from /scratch/bell/wei402/fdp-estimation/results/model_folder/CNN_model_x1_efeef71487fae47a.pt\n",
      "05/15/2025 12:10:06:INFO:Loaded and projected model pair 3/5\n",
      "05/15/2025 12:10:06:INFO:Model loaded from /scratch/bell/wei402/fdp-estimation/results/model_folder/CNN_model_x0_c3f8a0e6b8878b1c.pt\n",
      "05/15/2025 12:10:06:INFO:Model loaded from /scratch/bell/wei402/fdp-estimation/results/model_folder/CNN_model_x1_089473d16619d6d1.pt\n",
      "05/15/2025 12:10:06:INFO:Loaded and projected model pair 4/5\n",
      "05/15/2025 12:10:07:INFO:Model loaded from /scratch/bell/wei402/fdp-estimation/results/model_folder/CNN_model_x0_bf7c11a438d38313.pt\n",
      "05/15/2025 12:10:07:INFO:Model loaded from /scratch/bell/wei402/fdp-estimation/results/model_folder/CNN_model_x1_a6760ee2d0f614f0.pt\n",
      "05/15/2025 12:10:07:INFO:Loaded and projected model pair 5/5\n",
      "05/15/2025 12:10:07:INFO:Generating 1 additional model pairs\n",
      "/tmp/fdp-env/lib/python3.8/site-packages/opacus/privacy_engine.py:96: UserWarning: Secure RNG turned off. This is perfectly fine for experimentation as it allows for much faster training performance, but remember to turn it on and retrain one last time before production with ``secure_mode`` turned on.\n",
      "  warnings.warn(\n",
      "  0%|          | 0/98 [00:00<?, ?it/s]/tmp/fdp-env/lib/python3.8/site-packages/torch/nn/modules/module.py:1640: FutureWarning: Using a non-full backward hook when the forward contains multiple autograd Nodes is deprecated and will be removed in future versions. This hook will be missing some grad_input. Please use register_full_backward_hook to get the documented behavior.\n",
      "  self._maybe_warn_non_full_backward_hook(args, result, grad_fn)\n",
      "100%|██████████| 98/98 [01:42<00:00,  1.05s/it]\n",
      "05/15/2025 12:11:49:INFO:Model saved to /scratch/bell/wei402/fdp-estimation/results/model_folder/CNN_model_x0_7f7791a5ea33c75c.pt\n",
      "100%|██████████| 98/98 [01:41<00:00,  1.04s/it]\n",
      "05/15/2025 12:13:31:INFO:Model saved to /scratch/bell/wei402/fdp-estimation/results/model_folder/CNN_model_x1_3f91f7dba50e577e.pt\n"
     ]
    }
   ],
   "source": [
    "score0, score1 = sampler.preprocess(num_samples=6)"
   ]
  },
  {
   "cell_type": "code",
   "execution_count": 6,
   "metadata": {},
   "outputs": [
    {
     "name": "stdout",
     "output_type": "stream",
     "text": [
      "[[3.60289559e-05]\n",
      " [1.13770552e-03]\n",
      " [6.49817241e-03]\n",
      " [4.95460874e-04]\n",
      " [4.46706964e-03]\n",
      " [2.24081939e-03]]\n",
      "[[0.00104067]\n",
      " [0.00075073]\n",
      " [0.00048683]\n",
      " [0.00081685]\n",
      " [0.00135131]\n",
      " [0.00531252]]\n"
     ]
    }
   ],
   "source": [
    "print(score0)\n",
    "print(score1)"
   ]
  }
 ],
 "metadata": {
  "kernelspec": {
   "display_name": "Python (fdp-env with OpenBLAS)",
   "language": "python",
   "name": "fdp-env-custom"
  },
  "language_info": {
   "codemirror_mode": {
    "name": "ipython",
    "version": 3
   },
   "file_extension": ".py",
   "mimetype": "text/x-python",
   "name": "python",
   "nbconvert_exporter": "python",
   "pygments_lexer": "ipython3",
   "version": "3.8.5"
  }
 },
 "nbformat": 4,
 "nbformat_minor": 2
}
