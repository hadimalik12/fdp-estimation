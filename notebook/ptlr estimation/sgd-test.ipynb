{
 "cells": [
  {
   "cell_type": "code",
   "execution_count": 1,
   "metadata": {},
   "outputs": [],
   "source": [
    "import os\n",
    "import sys\n",
    "\n",
    "# Navigate to the parent directory of the project structure\n",
    "project_dir = os.path.abspath(os.path.join(os.getcwd(), '../..'))\n",
    "src_dir = os.path.join(project_dir, 'src')\n",
    "fig_dir = os.path.join(project_dir, 'fig')\n",
    "data_dir = os.path.join(project_dir, 'data')\n",
    "log_dir = os.path.join(project_dir, 'log')\n",
    "os.makedirs(fig_dir, exist_ok=True)\n",
    "\n",
    "# Add the src directory to sys.path\n",
    "sys.path.append(src_dir)\n",
    "\n",
    "import mech.full_DPSGD as DPSGDModule"
   ]
  },
  {
   "cell_type": "code",
   "execution_count": 2,
   "metadata": {},
   "outputs": [
    {
     "name": "stdout",
     "output_type": "stream",
     "text": [
      "Files already downloaded and verified\n"
     ]
    },
    {
     "name": "stderr",
     "output_type": "stream",
     "text": [
      "05/11/2025 19:38:17:INFO:Initialized CNN_DPSGDSampler with parameters: batch_size=512, epochs=1, lr=0.10, sigma=1.00, max_grad_norm=1.00, device=cpu\n"
     ]
    }
   ],
   "source": [
    "data_args = {\n",
    "    \"method\": \"default\",\n",
    "    \"data_dir\": data_dir,\n",
    "    \"internal_result_path\": \"/scratch/bell/wei402/fdp-estimation/results\"\n",
    "}\n",
    "\n",
    "args = DPSGDModule.generate_params(data_args=data_args, log_dir=log_dir)\n",
    "sampler = DPSGDModule.CNN_DPSGDSampler(args)"
   ]
  },
  {
   "cell_type": "code",
   "execution_count": 3,
   "metadata": {},
   "outputs": [
    {
     "name": "stderr",
     "output_type": "stream",
     "text": [
      "/tmp/fdp-env/lib/python3.8/site-packages/opacus/privacy_engine.py:96: UserWarning: Secure RNG turned off. This is perfectly fine for experimentation as it allows for much faster training performance, but remember to turn it on and retrain one last time before production with ``secure_mode`` turned on.\n",
      "  warnings.warn(\n",
      "  0%|          | 0/98 [00:00<?, ?it/s]/tmp/fdp-env/lib/python3.8/site-packages/torch/nn/modules/module.py:1640: FutureWarning: Using a non-full backward hook when the forward contains multiple autograd Nodes is deprecated and will be removed in future versions. This hook will be missing some grad_input. Please use register_full_backward_hook to get the documented behavior.\n",
      "  self._maybe_warn_non_full_backward_hook(args, result, grad_fn)\n",
      "100%|██████████| 98/98 [01:41<00:00,  1.03s/it]\n",
      "05/11/2025 19:40:00:INFO:Model saved to /scratch/bell/wei402/fdp-estimation/results/model_folder/model_x0_1f66b563abe322c9.pt\n",
      "100%|██████████| 98/98 [01:41<00:00,  1.04s/it]\n",
      "05/11/2025 19:41:42:INFO:Model saved to /scratch/bell/wei402/fdp-estimation/results/model_folder/model_x1_a6760ee2d0f614f0.pt\n"
     ]
    },
    {
     "ename": "AttributeError",
     "evalue": "'float' object has no attribute 'ndim'",
     "output_type": "error",
     "traceback": [
      "\u001b[0;31m---------------------------------------------------------------------------\u001b[0m",
      "\u001b[0;31mAttributeError\u001b[0m                            Traceback (most recent call last)",
      "Cell \u001b[0;32mIn[3], line 1\u001b[0m\n\u001b[0;32m----> 1\u001b[0m score0, score1 \u001b[38;5;241m=\u001b[39m \u001b[43msampler\u001b[49m\u001b[38;5;241;43m.\u001b[39;49m\u001b[43mpreprocess\u001b[49m\u001b[43m(\u001b[49m\u001b[43mnum_samples\u001b[49m\u001b[38;5;241;43m=\u001b[39;49m\u001b[38;5;241;43m1000\u001b[39;49m\u001b[43m)\u001b[49m\n",
      "File \u001b[0;32m~/Desktop/fdp-estimation/src/mech/full_DPSGD.py:295\u001b[0m, in \u001b[0;36mCNN_DPSGDSampler.preprocess\u001b[0;34m(self, num_samples)\u001b[0m\n\u001b[1;32m    292\u001b[0m samples_P \u001b[38;5;241m=\u001b[39m \u001b[38;5;28mself\u001b[39m\u001b[38;5;241m.\u001b[39mproject_model_to_one_dim(model_x0)\n\u001b[1;32m    293\u001b[0m samples_Q \u001b[38;5;241m=\u001b[39m \u001b[38;5;28mself\u001b[39m\u001b[38;5;241m.\u001b[39mproject_model_to_one_dim(model_x1)\n\u001b[0;32m--> 295\u001b[0m \u001b[38;5;28mself\u001b[39m\u001b[38;5;241m.\u001b[39msamples_P, \u001b[38;5;28mself\u001b[39m\u001b[38;5;241m.\u001b[39msamples_Q \u001b[38;5;241m=\u001b[39m \u001b[43m_ensure_2dim\u001b[49m\u001b[43m(\u001b[49m\u001b[43msamples_P\u001b[49m\u001b[43m,\u001b[49m\u001b[43m \u001b[49m\u001b[43msamples_Q\u001b[49m\u001b[43m)\u001b[49m\n\u001b[1;32m    296\u001b[0m \u001b[38;5;28mself\u001b[39m\u001b[38;5;241m.\u001b[39mcomputed_samples \u001b[38;5;241m=\u001b[39m num_samples\n\u001b[1;32m    298\u001b[0m \u001b[38;5;28;01mreturn\u001b[39;00m (\u001b[38;5;28mself\u001b[39m\u001b[38;5;241m.\u001b[39msamples_P, \u001b[38;5;28mself\u001b[39m\u001b[38;5;241m.\u001b[39msamples_Q)\n",
      "File \u001b[0;32m~/Desktop/fdp-estimation/src/utils/utils.py:7\u001b[0m, in \u001b[0;36m_ensure_2dim\u001b[0;34m(X0, X1)\u001b[0m\n\u001b[1;32m      5\u001b[0m \u001b[38;5;28;01mdef\u001b[39;00m\u001b[38;5;250m \u001b[39m\u001b[38;5;21m_ensure_2dim\u001b[39m(X0, X1):\n\u001b[1;32m      6\u001b[0m     \u001b[38;5;66;03m# sklearn wants X to have dimension>=2\u001b[39;00m\n\u001b[0;32m----> 7\u001b[0m     \u001b[38;5;28;01mif\u001b[39;00m \u001b[43mX0\u001b[49m\u001b[38;5;241;43m.\u001b[39;49m\u001b[43mndim\u001b[49m \u001b[38;5;241m==\u001b[39m \u001b[38;5;241m1\u001b[39m:\n\u001b[1;32m      8\u001b[0m         X0 \u001b[38;5;241m=\u001b[39m X0[:, np\u001b[38;5;241m.\u001b[39mnewaxis]\n\u001b[1;32m      9\u001b[0m     \u001b[38;5;28;01mif\u001b[39;00m X1\u001b[38;5;241m.\u001b[39mndim \u001b[38;5;241m==\u001b[39m \u001b[38;5;241m1\u001b[39m:\n",
      "\u001b[0;31mAttributeError\u001b[0m: 'float' object has no attribute 'ndim'"
     ]
    }
   ],
   "source": [
    "score0, score1 = sampler.preprocess(num_samples=1000)"
   ]
  },
  {
   "cell_type": "code",
   "execution_count": 5,
   "metadata": {},
   "outputs": [
    {
     "name": "stderr",
     "output_type": "stream",
     "text": [
      "05/11/2025 19:03:13:INFO:Final loss on train set (x0): 2.1000\n"
     ]
    },
    {
     "data": {
      "text/plain": [
       "2.1000368132781984"
      ]
     },
     "execution_count": 5,
     "metadata": {},
     "output_type": "execute_result"
    }
   ],
   "source": [
    "sampler.evaluate_loss(model)"
   ]
  }
 ],
 "metadata": {
  "kernelspec": {
   "display_name": "Python (fdp-env with OpenBLAS)",
   "language": "python",
   "name": "fdp-env-custom"
  },
  "language_info": {
   "codemirror_mode": {
    "name": "ipython",
    "version": 3
   },
   "file_extension": ".py",
   "mimetype": "text/x-python",
   "name": "python",
   "nbconvert_exporter": "python",
   "pygments_lexer": "ipython3",
   "version": "3.8.5"
  }
 },
 "nbformat": 4,
 "nbformat_minor": 2
}
