{
 "cells": [
  {
   "cell_type": "code",
   "execution_count": 2,
   "metadata": {},
   "outputs": [],
   "source": [
    "import os\n",
    "import sys\n",
    "import copy\n",
    "\n",
    "# Navigate to the parent directory of the project structure\n",
    "project_dir = os.path.abspath(os.path.join(os.getcwd(), '../..'))\n",
    "src_dir = os.path.join(project_dir, 'src')\n",
    "fig_dir = os.path.join(project_dir, 'fig')\n",
    "data_dir = os.path.join(project_dir, 'data')\n",
    "log_dir = os.path.join(project_dir, 'log')\n",
    "os.makedirs(fig_dir, exist_ok=True)\n",
    "\n",
    "# Add the src directory to sys.path\n",
    "sys.path.append(src_dir)\n",
    "import matplotlib.pyplot as plt\n",
    "import numpy as np\n",
    "\n",
    "import mech.full_DPSGD as DPSGDModule\n",
    "from analysis.tradeoff_Gaussian import Gaussian_curve\n",
    "from mech.dpsgd_algs.train_neural_network import compute_accuracy_privacy_point\n",
    "from mech.model_architecture import convnet_balanced"
   ]
  },
  {
   "cell_type": "code",
   "execution_count": 3,
   "metadata": {},
   "outputs": [
    {
     "name": "stderr",
     "output_type": "stream",
     "text": [
      "/home/snek/.local/lib/python3.10/site-packages/opacus/privacy_engine.py:96: UserWarning: Secure RNG turned off. This is perfectly fine for experimentation as it allows for much faster training performance, but remember to turn it on and retrain one last time before production with ``secure_mode`` turned on.\n",
      "  warnings.warn(\n",
      "  0%|                                                     | 0/2 [00:00<?, ?it/s]/home/snek/.local/lib/python3.10/site-packages/torch/nn/modules/module.py:1842: FutureWarning: Using a non-full backward hook when the forward contains multiple autograd Nodes is deprecated and will be removed in future versions. This hook will be missing some grad_input. Please use register_full_backward_hook to get the documented behavior.\n",
      "  self._maybe_warn_non_full_backward_hook(args, result, grad_fn)\n",
      "100%|█████████████████████████████████████████████| 2/2 [00:03<00:00,  1.54s/it]\n"
     ]
    },
    {
     "name": "stdout",
     "output_type": "stream",
     "text": [
      "Final loss: [2.2997821063995363]\n",
      "White image loss: [2.262521505355835]\n",
      "Black image loss: [2.1462786197662354]\n",
      "Achieved privacy: ε = [3.169888532688779] for δ = 0.001\n"
     ]
    },
    {
     "name": "stderr",
     "output_type": "stream",
     "text": [
      "100%|█████████████████████████████████████████████| 2/2 [00:03<00:00,  1.73s/it]\n",
      "100%|█████████████████████████████████████████████| 2/2 [00:03<00:00,  1.71s/it]\n",
      "100%|█████████████████████████████████████████████| 2/2 [00:02<00:00,  1.41s/it]\n",
      "100%|█████████████████████████████████████████████| 2/2 [00:03<00:00,  1.52s/it]\n",
      "100%|█████████████████████████████████████████████| 2/2 [00:02<00:00,  1.47s/it]\n",
      "100%|█████████████████████████████████████████████| 2/2 [00:03<00:00,  1.68s/it]\n",
      "100%|█████████████████████████████████████████████| 2/2 [00:03<00:00,  1.55s/it]\n",
      "100%|█████████████████████████████████████████████| 2/2 [00:03<00:00,  1.59s/it]\n",
      "100%|█████████████████████████████████████████████| 2/2 [00:03<00:00,  1.51s/it]\n"
     ]
    },
    {
     "name": "stdout",
     "output_type": "stream",
     "text": [
      "Final loss: [2.2997821063995363, 2.0480904579162598]\n",
      "White image loss: [2.262521505355835, 0.8792039752006531]\n",
      "Black image loss: [2.1462786197662354, 3.84363055229187]\n",
      "Achieved privacy: ε = [3.169888532688779, 11.111740050324796] for δ = 0.001\n"
     ]
    },
    {
     "name": "stderr",
     "output_type": "stream",
     "text": [
      "100%|█████████████████████████████████████████████| 2/2 [00:03<00:00,  1.59s/it]\n",
      "100%|█████████████████████████████████████████████| 2/2 [00:03<00:00,  1.70s/it]\n",
      "100%|█████████████████████████████████████████████| 2/2 [00:03<00:00,  1.53s/it]\n",
      "100%|█████████████████████████████████████████████| 2/2 [00:03<00:00,  1.53s/it]\n",
      "100%|█████████████████████████████████████████████| 2/2 [00:03<00:00,  1.56s/it]\n"
     ]
    },
    {
     "name": "stdout",
     "output_type": "stream",
     "text": [
      "Final loss: [2.2997821063995363, 2.0480904579162598, 1.9831927862167358]\n",
      "White image loss: [2.262521505355835, 0.8792039752006531, 1.0256417989730835]\n",
      "Black image loss: [2.1462786197662354, 3.84363055229187, 4.403465270996094]\n",
      "Achieved privacy: ε = [3.169888532688779, 11.111740050324796, 14.294007394362355] for δ = 0.001\n"
     ]
    },
    {
     "name": "stderr",
     "output_type": "stream",
     "text": [
      "100%|█████████████████████████████████████████████| 2/2 [00:03<00:00,  1.57s/it]\n",
      "100%|█████████████████████████████████████████████| 2/2 [00:03<00:00,  1.55s/it]\n",
      "100%|█████████████████████████████████████████████| 2/2 [00:03<00:00,  1.55s/it]\n",
      "100%|█████████████████████████████████████████████| 2/2 [00:02<00:00,  1.50s/it]\n",
      "100%|█████████████████████████████████████████████| 2/2 [00:02<00:00,  1.47s/it]\n"
     ]
    },
    {
     "name": "stdout",
     "output_type": "stream",
     "text": [
      "Final loss: [2.2997821063995363, 2.0480904579162598, 1.9831927862167358, 1.9349396333694457]\n",
      "White image loss: [2.262521505355835, 0.8792039752006531, 1.0256417989730835, 1.065727949142456]\n",
      "Black image loss: [2.1462786197662354, 3.84363055229187, 4.403465270996094, 4.633764266967773]\n",
      "Achieved privacy: ε = [3.169888532688779, 11.111740050324796, 14.294007394362355, 17.197031107176187] for δ = 0.001\n"
     ]
    },
    {
     "name": "stderr",
     "output_type": "stream",
     "text": [
      "100%|█████████████████████████████████████████████| 2/2 [00:03<00:00,  1.61s/it]\n",
      "100%|█████████████████████████████████████████████| 2/2 [00:02<00:00,  1.39s/it]\n",
      "100%|█████████████████████████████████████████████| 2/2 [00:02<00:00,  1.48s/it]\n",
      "100%|█████████████████████████████████████████████| 2/2 [00:02<00:00,  1.40s/it]\n",
      "100%|█████████████████████████████████████████████| 2/2 [00:03<00:00,  1.67s/it]\n"
     ]
    },
    {
     "name": "stdout",
     "output_type": "stream",
     "text": [
      "Final loss: [2.2997821063995363, 2.0480904579162598, 1.9831927862167358, 1.9349396333694457, 1.895667209625244]\n",
      "White image loss: [2.262521505355835, 0.8792039752006531, 1.0256417989730835, 1.065727949142456, 0.7227943539619446]\n",
      "Black image loss: [2.1462786197662354, 3.84363055229187, 4.403465270996094, 4.633764266967773, 4.858949661254883]\n",
      "Achieved privacy: ε = [3.169888532688779, 11.111740050324796, 14.294007394362355, 17.197031107176187, 19.921268134378117] for δ = 0.001\n"
     ]
    }
   ],
   "source": [
    "model_name = 'convnet_balanced'\n",
    "database_size = 1000\n",
    "internal_result_path = \"/home/snek/martind/fdp/revision/results_yu\"\n",
    "epoch_list = [1, 10, 15, 20, 25]\n",
    "delta = 1e-3\n",
    "data_args = {\n",
    "    \"method\": \"default\",\n",
    "    \"data_dir\": data_dir,\n",
    "    \"internal_result_path\": os.path.join(internal_result_path, 'train')\n",
    "}\n",
    "\n",
    "\n",
    "_, _, _, theoretical_upperbound_epsilons, _ = compute_accuracy_privacy_point(data_dir=data_dir, epoch_list=epoch_list, model_class=convnet_balanced, database_size=database_size, delta=delta)"
   ]
  },
  {
   "cell_type": "code",
   "execution_count": 4,
   "metadata": {},
   "outputs": [
    {
     "name": "stderr",
     "output_type": "stream",
     "text": [
      "05/22/2025 13:12:22:INFO:Initialized convnet_balanced_DPSGDSampler with parameters: batch_size=512, epochs=1, lr=0.10, sigma=1.00, max_grad_norm=1.00, device=cpu\n",
      "05/22/2025 13:12:22:INFO:Found 1000 samples in /home/snek/martind/fdp/revision/results_yu/train/convnet_balanced_1000_1/samples_folder. Skipping generation.\n",
      "05/22/2025 13:12:40:INFO:Initialized convnet_balanced_DPSGDSampler with parameters: batch_size=512, epochs=10, lr=0.10, sigma=1.00, max_grad_norm=1.00, device=cpu\n",
      "05/22/2025 13:12:40:INFO:Found 1000 samples in /home/snek/martind/fdp/revision/results_yu/train/convnet_balanced_1000_10/samples_folder. Skipping generation.\n",
      "05/22/2025 13:12:58:INFO:Initialized convnet_balanced_DPSGDSampler with parameters: batch_size=512, epochs=15, lr=0.10, sigma=1.00, max_grad_norm=1.00, device=cpu\n",
      "05/22/2025 13:12:58:INFO:Found 1000 samples in /home/snek/martind/fdp/revision/results_yu/train/convnet_balanced_1000_15/samples_folder. Skipping generation.\n",
      "05/22/2025 13:13:16:INFO:Initialized convnet_balanced_DPSGDSampler with parameters: batch_size=512, epochs=20, lr=0.10, sigma=1.00, max_grad_norm=1.00, device=cpu\n",
      "05/22/2025 13:13:16:INFO:Found 1000 samples in /home/snek/martind/fdp/revision/results_yu/train/convnet_balanced_1000_20/samples_folder. Skipping generation.\n",
      "05/22/2025 13:13:33:INFO:Initialized convnet_balanced_DPSGDSampler with parameters: batch_size=512, epochs=25, lr=0.10, sigma=1.00, max_grad_norm=1.00, device=cpu\n",
      "05/22/2025 13:13:33:INFO:Found 1000 samples in /home/snek/martind/fdp/revision/results_yu/train/convnet_balanced_1000_25/samples_folder. Skipping generation.\n"
     ]
    }
   ],
   "source": [
    "estimated_lowerbound_epsilons = []\n",
    "\n",
    "for epoch in epoch_list:\n",
    "        epoch_args = DPSGDModule.generate_params(data_args=data_args, log_dir=log_dir, model_name=model_name, database_size=database_size, epochs=epoch, auditing_approach=\"1d_KLDivLoss\")\n",
    "        estimator_KL = DPSGDModule.DPSGD_PTLREstimator(epoch_args)\n",
    "        estimator_KL.build(eta_max = 15)\n",
    "        estimated_lowerbound_epsilons.append(estimator_KL.compute_eps_lower_bound(delta=delta))"
   ]
  },
  {
   "cell_type": "code",
   "execution_count": 5,
   "metadata": {},
   "outputs": [
    {
     "name": "stderr",
     "output_type": "stream",
     "text": [
      "05/22/2025 13:13:51:WARNING:No artists with labels found to put in legend.  Note that artists whose label start with an underscore are ignored when legend() is called with no argument.\n"
     ]
    },
    {
     "data": {
      "image/png": "[encoded data removed]",
      "text/plain": [
       "<Figure size 576x432 with 1 Axes>"
      ]
     },
     "metadata": {
      "needs_background": "light"
     },
     "output_type": "display_data"
    }
   ],
   "source": [
    "\n",
    "file_name = os.path.join(fig_dir, f\"Lower_bound_fig.png\")\n",
    "\n",
    "plt.figure(figsize=(8, 6))\n",
    "\n",
    "# Plot points\n",
    "plt.scatter(theoretical_upperbound_epsilons, estimated_lowerbound_epsilons, \n",
    "            color='purple', s=100)\n",
    "\n",
    "# Plot connecting lines\n",
    "plt.plot(theoretical_upperbound_epsilons, estimated_lowerbound_epsilons, \n",
    "        color='purple', alpha=0.3, linestyle='--')\n",
    "\n",
    "plt.xlabel(r'Theoretical Upper Bound ($\\varepsilon$)', fontsize=24)\n",
    "plt.ylabel(r'Estimated Lower Bound ($\\hat{\\varepsilon}$)', fontsize=24)\n",
    "\n",
    "plt.xticks(fontsize=24)\n",
    "plt.yticks(fontsize=24)\n",
    "plt.grid()\n",
    "plt.legend()\n",
    "plt.savefig(file_name, bbox_inches='tight', dpi=300)\n",
    "\n",
    "plt.show()"
   ]
  },
  {
   "cell_type": "code",
   "execution_count": null,
   "metadata": {},
   "outputs": [],
   "source": []
  }
 ],
 "metadata": {
  "kernelspec": {
   "display_name": "Python 3 (ipykernel)",
   "language": "python",
   "name": "python3"
  },
  "language_info": {
   "codemirror_mode": {
    "name": "ipython",
    "version": 3
   },
   "file_extension": ".py",
   "mimetype": "text/x-python",
   "name": "python",
   "nbconvert_exporter": "python",
   "pygments_lexer": "ipython3",
   "version": "3.10.12"
  }
 },
 "nbformat": 4,
 "nbformat_minor": 2
}
