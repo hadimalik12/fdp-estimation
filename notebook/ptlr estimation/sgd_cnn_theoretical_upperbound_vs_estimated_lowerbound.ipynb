{
 "cells": [
  {
   "cell_type": "code",
   "execution_count": 1,
   "metadata": {},
   "outputs": [],
   "source": [
    "import os\n",
    "import sys\n",
    "import copy\n",
    "\n",
    "# Navigate to the parent directory of the project structure\n",
    "project_dir = os.path.abspath(os.path.join(os.getcwd(), '../..'))\n",
    "src_dir = os.path.join(project_dir, 'src')\n",
    "fig_dir = os.path.join(project_dir, 'fig')\n",
    "data_dir = os.path.join(project_dir, 'data')\n",
    "log_dir = os.path.join(project_dir, 'log')\n",
    "os.makedirs(fig_dir, exist_ok=True)\n",
    "\n",
    "# Add the src directory to sys.path\n",
    "sys.path.append(src_dir)\n",
    "import matplotlib.pyplot as plt\n",
    "import numpy as np\n",
    "\n",
    "import mech.full_DPSGD as DPSGDModule\n",
    "from analysis.tradeoff_Gaussian import Gaussian_curve\n",
    "from mech.dpsgd_algs.train_neural_network import compute_accuracy_privacy_point\n",
    "from mech.model_architecture import convnet_balanced"
   ]
  },
  {
   "cell_type": "code",
   "execution_count": 2,
   "metadata": {},
   "outputs": [
    {
     "name": "stdout",
     "output_type": "stream",
     "text": [
      "Files already downloaded and verified\n"
     ]
    },
    {
     "name": "stderr",
     "output_type": "stream",
     "text": [
      "/tmp/fdp-env/lib/python3.8/site-packages/opacus/privacy_engine.py:96: UserWarning: Secure RNG turned off. This is perfectly fine for experimentation as it allows for much faster training performance, but remember to turn it on and retrain one last time before production with ``secure_mode`` turned on.\n",
      "  warnings.warn(\n",
      "  0%|          | 0/2 [00:00<?, ?it/s]/tmp/fdp-env/lib/python3.8/site-packages/torch/nn/modules/module.py:1640: FutureWarning: Using a non-full backward hook when the forward contains multiple autograd Nodes is deprecated and will be removed in future versions. This hook will be missing some grad_input. Please use register_full_backward_hook to get the documented behavior.\n",
      "  self._maybe_warn_non_full_backward_hook(args, result, grad_fn)\n",
      "100%|██████████| 2/2 [00:02<00:00,  1.15s/it]\n"
     ]
    },
    {
     "name": "stdout",
     "output_type": "stream",
     "text": [
      "Final loss: [2.3063078212738035]\n",
      "White image loss: [2.11726713180542]\n",
      "Black image loss: [2.182119607925415]\n",
      "Achieved privacy: ε = [4.864371844960767] for δ = 1e-05\n"
     ]
    },
    {
     "name": "stderr",
     "output_type": "stream",
     "text": [
      "100%|██████████| 2/2 [00:02<00:00,  1.14s/it]\n",
      "100%|██████████| 2/2 [00:02<00:00,  1.15s/it]\n",
      "100%|██████████| 2/2 [00:02<00:00,  1.12s/it]\n",
      "100%|██████████| 2/2 [00:02<00:00,  1.17s/it]\n"
     ]
    },
    {
     "name": "stdout",
     "output_type": "stream",
     "text": [
      "Final loss: [2.3063078212738035, 2.230992322921753]\n",
      "White image loss: [2.11726713180542, 1.7691569328308105]\n",
      "Black image loss: [2.182119607925415, 2.804530620574951]\n",
      "Achieved privacy: ε = [4.864371844960767, 10.470532745882426] for δ = 1e-05\n"
     ]
    },
    {
     "name": "stderr",
     "output_type": "stream",
     "text": [
      "100%|██████████| 2/2 [00:02<00:00,  1.11s/it]\n",
      "100%|██████████| 2/2 [00:02<00:00,  1.13s/it]\n",
      "100%|██████████| 2/2 [00:02<00:00,  1.10s/it]\n",
      "100%|██████████| 2/2 [00:02<00:00,  1.16s/it]\n",
      "100%|██████████| 2/2 [00:02<00:00,  1.14s/it]\n"
     ]
    },
    {
     "name": "stdout",
     "output_type": "stream",
     "text": [
      "Final loss: [2.3063078212738035, 2.230992322921753, 2.1167873821258545]\n",
      "White image loss: [2.11726713180542, 1.7691569328308105, 1.0840637683868408]\n",
      "Black image loss: [2.182119607925415, 2.804530620574951, 3.4025659561157227]\n",
      "Achieved privacy: ε = [4.864371844960767, 10.470532745882426, 15.134060567347522] for δ = 1e-05\n"
     ]
    },
    {
     "name": "stderr",
     "output_type": "stream",
     "text": [
      "100%|██████████| 2/2 [00:02<00:00,  1.16s/it]\n",
      "100%|██████████| 2/2 [00:02<00:00,  1.13s/it]\n",
      "100%|██████████| 2/2 [00:02<00:00,  1.16s/it]\n",
      "100%|██████████| 2/2 [00:02<00:00,  1.11s/it]\n",
      "100%|██████████| 2/2 [00:02<00:00,  1.14s/it]\n"
     ]
    },
    {
     "name": "stdout",
     "output_type": "stream",
     "text": [
      "Final loss: [2.3063078212738035, 2.230992322921753, 2.1167873821258545, 2.0266609992980955]\n",
      "White image loss: [2.11726713180542, 1.7691569328308105, 1.0840637683868408, 0.9228022694587708]\n",
      "Black image loss: [2.182119607925415, 2.804530620574951, 3.4025659561157227, 3.4771175384521484]\n",
      "Achieved privacy: ε = [4.864371844960767, 10.470532745882426, 15.134060567347522, 19.025363994339287] for δ = 1e-05\n"
     ]
    },
    {
     "name": "stderr",
     "output_type": "stream",
     "text": [
      "100%|██████████| 2/2 [00:02<00:00,  1.13s/it]\n",
      "100%|██████████| 2/2 [00:02<00:00,  1.15s/it]\n",
      "100%|██████████| 2/2 [00:02<00:00,  1.15s/it]\n",
      "100%|██████████| 2/2 [00:02<00:00,  1.13s/it]\n",
      "100%|██████████| 2/2 [00:02<00:00,  1.14s/it]\n"
     ]
    },
    {
     "name": "stdout",
     "output_type": "stream",
     "text": [
      "Final loss: [2.3063078212738035, 2.230992322921753, 2.1167873821258545, 2.0266609992980955, 1.9703398084640502]\n",
      "White image loss: [2.11726713180542, 1.7691569328308105, 1.0840637683868408, 0.9228022694587708, 0.8209210634231567]\n",
      "Black image loss: [2.182119607925415, 2.804530620574951, 3.4025659561157227, 3.4771175384521484, 3.821678638458252]\n",
      "Achieved privacy: ε = [4.864371844960767, 10.470532745882426, 15.134060567347522, 19.025363994339287, 22.521270864019243] for δ = 1e-05\n"
     ]
    }
   ],
   "source": [
    "model_name = 'convnet_balanced'\n",
    "database_size = 1000\n",
    "internal_result_path = \"/scratch/bell/wei402/fdp-estimation/results\"\n",
    "epoch_list = [1, 5, 10, 15, 20]\n",
    "delta = 1e-5\n",
    "data_args = {\n",
    "    \"method\": \"default\",\n",
    "    \"data_dir\": data_dir,\n",
    "    \"internal_result_path\": os.path.join(internal_result_path, 'train')\n",
    "}\n",
    "\n",
    "\n",
    "_, _, _, theoretical_upperbound_epsilons, _ = compute_accuracy_privacy_point(data_dir=data_dir, epoch_list=epoch_list, model_class=convnet_balanced, database_size=database_size, delta=delta)"
   ]
  },
  {
   "cell_type": "code",
   "execution_count": 3,
   "metadata": {},
   "outputs": [
    {
     "name": "stdout",
     "output_type": "stream",
     "text": [
      "Files already downloaded and verified\n"
     ]
    },
    {
     "name": "stderr",
     "output_type": "stream",
     "text": [
      "05/19/2025 21:14:50:INFO:Initialized convnet_balanced_DPSGDSampler with parameters: batch_size=512, epochs=1, lr=0.10, sigma=1.00, max_grad_norm=1.00, device=cpu\n",
      "05/19/2025 21:14:50:INFO:Found 1000 samples in /scratch/bell/wei402/fdp-estimation/results/train/convnet_balanced_1000_1/samples_folder. Skipping generation.\n"
     ]
    },
    {
     "name": "stdout",
     "output_type": "stream",
     "text": [
      "Files already downloaded and verified\n"
     ]
    },
    {
     "name": "stderr",
     "output_type": "stream",
     "text": [
      "05/19/2025 21:15:15:INFO:Initialized convnet_balanced_DPSGDSampler with parameters: batch_size=512, epochs=5, lr=0.10, sigma=1.00, max_grad_norm=1.00, device=cpu\n",
      "05/19/2025 21:15:15:INFO:Found 1000 samples in /scratch/bell/wei402/fdp-estimation/results/train/convnet_balanced_1000_5/samples_folder. Skipping generation.\n"
     ]
    },
    {
     "name": "stdout",
     "output_type": "stream",
     "text": [
      "Files already downloaded and verified\n"
     ]
    },
    {
     "name": "stderr",
     "output_type": "stream",
     "text": [
      "05/19/2025 21:15:40:INFO:Initialized convnet_balanced_DPSGDSampler with parameters: batch_size=512, epochs=10, lr=0.10, sigma=1.00, max_grad_norm=1.00, device=cpu\n",
      "05/19/2025 21:15:40:INFO:Found 1000 samples in /scratch/bell/wei402/fdp-estimation/results/train/convnet_balanced_1000_10/samples_folder. Skipping generation.\n"
     ]
    },
    {
     "name": "stdout",
     "output_type": "stream",
     "text": [
      "Files already downloaded and verified\n"
     ]
    },
    {
     "name": "stderr",
     "output_type": "stream",
     "text": [
      "05/19/2025 21:16:05:INFO:Initialized convnet_balanced_DPSGDSampler with parameters: batch_size=512, epochs=15, lr=0.10, sigma=1.00, max_grad_norm=1.00, device=cpu\n",
      "05/19/2025 21:16:05:INFO:Found 1000 samples in /scratch/bell/wei402/fdp-estimation/results/train/convnet_balanced_1000_15/samples_folder. Skipping generation.\n"
     ]
    },
    {
     "name": "stdout",
     "output_type": "stream",
     "text": [
      "Files already downloaded and verified\n"
     ]
    },
    {
     "name": "stderr",
     "output_type": "stream",
     "text": [
      "05/19/2025 21:16:30:INFO:Initialized convnet_balanced_DPSGDSampler with parameters: batch_size=512, epochs=20, lr=0.10, sigma=1.00, max_grad_norm=1.00, device=cpu\n",
      "05/19/2025 21:16:30:INFO:Found 1000 samples in /scratch/bell/wei402/fdp-estimation/results/train/convnet_balanced_1000_20/samples_folder. Skipping generation.\n"
     ]
    }
   ],
   "source": [
    "estimated_lowerbound_epsilons = []\n",
    "\n",
    "for epoch in epoch_list:\n",
    "        epoch_args = DPSGDModule.generate_params(data_args=data_args, log_dir=log_dir, model_name=model_name, database_size=database_size, epochs=epoch, auditing_approach=\"1d_KLDivLoss\")\n",
    "        estimator_KL = DPSGDModule.DPSGD_PTLREstimator(epoch_args)\n",
    "        estimator_KL.build(eta_max = 15)\n",
    "        estimated_lowerbound_epsilons.append(estimator_KL.compute_eps_lower_bound(delta=delta))"
   ]
  },
  {
   "cell_type": "code",
   "execution_count": 4,
   "metadata": {},
   "outputs": [
    {
     "name": "stderr",
     "output_type": "stream",
     "text": [
      "05/19/2025 21:16:53:WARNING:No artists with labels found to put in legend.  Note that artists whose label start with an underscore are ignored when legend() is called with no argument.\n"
     ]
    },
    {
     "data": {
      "image/png": "[encoded data removed]",
      "text/plain": [
       "<Figure size 800x600 with 1 Axes>"
      ]
     },
     "metadata": {},
     "output_type": "display_data"
    }
   ],
   "source": [
    "plt.figure(figsize=(8, 6))\n",
    "\n",
    "# Plot points\n",
    "plt.scatter(theoretical_upperbound_epsilons, estimated_lowerbound_epsilons, \n",
    "            color='purple', s=100)\n",
    "\n",
    "# Plot connecting lines\n",
    "plt.plot(theoretical_upperbound_epsilons, estimated_lowerbound_epsilons, \n",
    "        color='purple', alpha=0.3, linestyle='--')\n",
    "\n",
    "# Customize plot\n",
    "plt.xlabel('Theoretical Upper Bound (ε)')\n",
    "plt.ylabel('Estimated Lower Bound (ε)')\n",
    "plt.title(\"Theoretical Upper Bound vs Estimated Lower Bound\")\n",
    "plt.grid()\n",
    "plt.legend()\n",
    "\n",
    "plt.show()"
   ]
  }
 ],
 "metadata": {
  "kernelspec": {
   "display_name": "Python (fdp-env with OpenBLAS)",
   "language": "python",
   "name": "fdp-env-custom"
  },
  "language_info": {
   "codemirror_mode": {
    "name": "ipython",
    "version": 3
   },
   "file_extension": ".py",
   "mimetype": "text/x-python",
   "name": "python",
   "nbconvert_exporter": "python",
   "pygments_lexer": "ipython3",
   "version": "3.8.5"
  }
 },
 "nbformat": 4,
 "nbformat_minor": 2
}
