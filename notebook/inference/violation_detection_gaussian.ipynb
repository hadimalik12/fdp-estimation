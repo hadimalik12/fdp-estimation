{
 "cells": [
  {
   "cell_type": "markdown",
   "metadata": {},
   "source": [
    "# Detecting Faulty $f$-DP Claim for the Gaussian Mechanism "
   ]
  },
  {
   "cell_type": "markdown",
   "metadata": {},
   "source": [
    "## Description\n",
    "\n",
    "This notebook demonstrates how to use the auditor API to audit a claimed tradeoff curve for the Gaussian Mechanism."
   ]
  },
  {
   "cell_type": "markdown",
   "metadata": {},
   "source": [
    "### Step 1: Import Packages"
   ]
  },
  {
   "cell_type": "code",
   "execution_count": 1,
   "metadata": {},
   "outputs": [],
   "source": [
    "import numpy as np\n",
    "import os\n",
    "import sys\n",
    "import time\n",
    "import logging\n",
    "import matplotlib.pyplot as plt\n",
    "from scipy.stats import norm\n",
    "\n",
    "# Navigate to the parent directory of the project structure\n",
    "project_dir = os.path.abspath(os.path.join(os.getcwd(), '../..'))\n",
    "src_dir = os.path.join(project_dir, 'src')\n",
    "log_dir = os.path.join(project_dir, 'log')\n",
    "fig_dir = os.path.join(project_dir, 'fig')\n",
    "os.makedirs(fig_dir, exist_ok=True)\n",
    "os.makedirs(log_dir, exist_ok=True)\n",
    "logfile_path = os.path.join(log_dir, 'auditing-Gaussian.log')\n",
    "\n",
    "# Add the src directory to sys.path\n",
    "sys.path.append(src_dir)\n",
    "\n",
    "\n",
    "from analysis.accuracy_analysis import create_plot, knn_baybox_acc_bound_1d\n",
    "\n",
    "from mech.GaussianDist import *"
   ]
  },
  {
   "cell_type": "markdown",
   "metadata": {},
   "source": [
    "### Step 2: Instantiate the $f$-DP Auditor for Gaussian Mechanism"
   ]
  },
  {
   "cell_type": "code",
   "execution_count": 2,
   "metadata": {},
   "outputs": [],
   "source": [
    "logging.basicConfig(\n",
    "    level=logging.INFO,\n",
    "    format=\"%(asctime)s %(message)s\",\n",
    "    handlers=[\n",
    "        logging.FileHandler(logfile_path)\n",
    "        # logging.StreamHandler()\n",
    "    ]\n",
    ")\n",
    "\n",
    "def claimed_curve(alpha):\n",
    "    return norm.cdf(norm.ppf(1 - alpha) - 0.2)\n",
    "\n",
    "kwargs = generate_params(claimed_f = claimed_curve, num_train_samples=1000000, num_test_samples=1000000)\n",
    "auditor = GaussianAuditor(kwargs)"
   ]
  },
  {
   "cell_type": "markdown",
   "metadata": {},
   "source": [
    "### Step 3: Auditing and Report"
   ]
  },
  {
   "cell_type": "code",
   "execution_count": null,
   "metadata": {},
   "outputs": [],
   "source": [
    "output = auditor.build()"
   ]
  },
  {
   "cell_type": "code",
   "execution_count": null,
   "metadata": {},
   "outputs": [],
   "source": [
    "output[\"Report\"] "
   ]
  },
  {
   "cell_type": "code",
   "execution_count": null,
   "metadata": {},
   "outputs": [],
   "source": [
    "file_name = os.path.join(fig_dir, 'faulty_gaussian_108.png')\n",
    "omega_8=knn_baybox_acc_bound_1d(10**8, kwargs[\"gamma\"])\n",
    "\n",
    "create_plot(omega_8, output[\"estimated_alpha\"], output[\"estimated_beta\"], np.linspace(0,1,500), claimed_curve, output[\"scan_alpha\"], output[\"scan_beta\"], output[\"critical_alpha\"], output[\"critical_beta\"], file_name)"
   ]
  },
  {
   "cell_type": "code",
   "execution_count": null,
   "metadata": {},
   "outputs": [],
   "source": []
  }
 ],
 "metadata": {
  "kernelspec": {
   "display_name": "Python 3 (ipykernel)",
   "language": "python",
   "name": "python3"
  },
  "language_info": {
   "codemirror_mode": {
    "name": "ipython",
    "version": 3
   },
   "file_extension": ".py",
   "mimetype": "text/x-python",
   "name": "python",
   "nbconvert_exporter": "python",
   "pygments_lexer": "ipython3",
   "version": "3.10.12"
  }
 },
 "nbformat": 4,
 "nbformat_minor": 4
}
