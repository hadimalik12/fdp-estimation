{
 "cells": [
  {
   "cell_type": "code",
   "execution_count": 1,
   "metadata": {},
   "outputs": [],
   "source": [
    "import numpy as np \n",
    "import matplotlib.pyplot as plt\n",
    "from scipy.stats import norm\n",
    "import sys\n",
    "import os\n",
    "import matplotlib.pyplot as plt\n",
    "from scipy.stats import norm\n",
    "# Add the path to the `src/estimator/` directory\n",
    "\n",
    "# Navigate to the parent directory (fdp-estimation) and add `src` to the path\n",
    "project_root = os.path.abspath(os.path.join(os.getcwd(), '..', 'src'))\n",
    "sys.path.append(project_root)\n",
    "\n",
    "# Import KDE_Estimator from estimator_kde\n",
    "from estimator.estimator_kde import KDE_Estimator\n"
   ]
  },
  {
   "cell_type": "code",
   "execution_count": 2,
   "metadata": {},
   "outputs": [],
   "source": [
    "# Define parameters\n",
    "sigma = 1\n",
    "x1 = np.array([1] + [0] * 9)\n",
    "x2 = np.zeros(10)\n",
    "\n",
    "# Define the mechanism function\n",
    "def Sum_Gauss(x):\n",
    "    s = np.sum(x) + np.random.normal(0, sigma)\n",
    "    return s\n",
    "\n",
    "# Command line arguments (replace with actual arguments or defaults for testing)\n",
    "N = 10**5  # Default value\n",
    "h = .1  # Default value\n",
    "\n",
    "eta_max = 15\n",
    "\n",
    "# Run KDE_Estimator\n",
    "#output_df = KDE_Estimator(eta_max=eta_max, Mechanism=Sum_Gauss, x1=x1, x2=x2, N=N, h=h)\n",
    "\n",
    "# Define Gaussian curve function\n",
    "mu_1 = 0\n",
    "mu_2 = 1\n",
    "\n",
    "\n",
    "def Gaussian_curve(alpha):\n",
    "    return norm.cdf(norm.ppf(1 - alpha) - mu_2)\n",
    "\n",
    "# Extract alpha and beta for plotting\n",
    "#alpha = output_df[\"alpha\"]\n",
    "#beta = output_df[\"beta\"]"
   ]
  },
  {
   "cell_type": "code",
   "execution_count": null,
   "metadata": {},
   "outputs": [],
   "source": [
    "# Plot the results\n",
    "plt.figure(figsize=(8, 6))\n",
    "plt.scatter(alpha, beta, color=\"firebrick\", s=10, label=\"KDE Estimator\")\n",
    "alpha_values = np.linspace(0, 1, 1000)\n",
    "plt.plot(alpha_values, Gaussian_curve(alpha_values), color=\"deepskyblue\", linewidth=1.5, label=\"Gaussian Curve\")\n",
    "plt.ylim(0, 1)\n",
    "plt.xlim(0, 1)\n",
    "plt.xlabel(\"Alpha\")\n",
    "plt.ylabel(\"Beta\")\n",
    "plt.title(\"KDE Estimator vs Gaussian Curve\")\n",
    "plt.legend()\n",
    "plt.grid()\n",
    "\n",
    "# Save the plot\n",
    "#output_filename = f\"L_output_plot_N{N}_h_{h:.1f}.png\"\n",
    "#plt.savefig(output_filename, dpi=300)\n",
    "plt.show()"
   ]
  },
  {
   "cell_type": "code",
   "execution_count": null,
   "metadata": {},
   "outputs": [],
   "source": [
    "import time\n",
    "\n",
    "# Placeholder for KDE_Estimator function and its parameters\n",
    "# Ensure KDE_Estimator and all parameters (eta_max, Sum_Gauss, x1, x2, N, h) are defined\n",
    "\n",
    "# Initialize variables\n",
    "num_runs = 10\n",
    "running_times = []\n",
    "\n",
    "# Run the function 10 times and record running times\n",
    "for _ in range(num_runs):\n",
    "    start_time = time.time()\n",
    "    output_df = KDE_Estimator(eta_max=eta_max, Mechanism=Sum_Gauss, x1=x1, x2=x2, N=N, h=h)\n",
    "    end_time = time.time()\n",
    "    running_times.append(end_time - start_time)\n",
    "\n",
    "# Compute average running time\n",
    "average_time = sum(running_times) / num_runs\n",
    "\n",
    "# Display the results\n",
    "print(f\"Average Running Time: {average_time:.6f} seconds\")\n",
    "print(f\"Individual Running Times: {running_times}\")"
   ]
  }
 ],
 "metadata": {
  "kernelspec": {
   "display_name": "Python 3",
   "language": "python",
   "name": "python3"
  },
  "language_info": {
   "codemirror_mode": {
    "name": "ipython",
    "version": 3
   },
   "file_extension": ".py",
   "mimetype": "text/x-python",
   "name": "python",
   "nbconvert_exporter": "python",
   "pygments_lexer": "ipython3",
   "version": "3.10.12"
  }
 },
 "nbformat": 4,
 "nbformat_minor": 4
}
