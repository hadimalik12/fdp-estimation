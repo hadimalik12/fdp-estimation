{
 "cells": [
  {
   "cell_type": "code",
   "execution_count": 1,
   "id": "166863bc-eb8c-4ca6-9ef7-170a7b64faef",
   "metadata": {},
   "outputs": [],
   "source": [
    "import numpy as np\n",
    "import os\n",
    "import sys\n",
    "import time\n",
    "import logging\n",
    "import matplotlib.pyplot as plt\n",
    "\n",
    "# Navigate to the parent directory of the project structure\n",
    "project_dir = os.path.abspath(os.path.join(os.getcwd(), '..'))\n",
    "src_dir = os.path.join(project_dir, 'src')\n",
    "\n",
    "# Add the src directory to sys.path\n",
    "sys.path.append(src_dir)\n",
    "\n",
    "import mech.GaussianDist as GaussianModule\n",
    "import mech.LapDist as LaplaceModule"
   ]
  },
  {
   "cell_type": "code",
   "execution_count": 11,
   "id": "f6facff0-c766-4869-87f0-8f88c09c8781",
   "metadata": {},
   "outputs": [],
   "source": [
    "test_train_sample_size = 100000\n",
    "test_test_sample_size = 100000\n",
    "eta = np.array([0.5])\n",
    "\n",
    "kwargs = GaussianModule.generate_params(num_train_samples = test_train_sample_size, num_test_samples = test_test_sample_size)\n",
    "estimator = GaussianModule.GaussianDistEstimator(kwargs)\n",
    "output = estimator.build(eta = eta)\n",
    "beta_estimate = output[\"beta\"]"
   ]
  },
  {
   "cell_type": "code",
   "execution_count": 12,
   "id": "d25587f8-ff5b-49c7-a113-9eed7d96075c",
   "metadata": {},
   "outputs": [],
   "source": [
    "kwargs = LaplaceModule.generate_params(num_train_samples = test_train_sample_size, num_test_samples = test_test_sample_size)\n",
    "estimator = LaplaceModule.LapDistEstimator(kwargs)\n",
    "output = estimator.build(eta = eta)\n",
    "beta_estimate = output[\"beta\"]"
   ]
  },
  {
   "cell_type": "code",
   "execution_count": 13,
   "id": "4c96a481-6493-4cdd-8961-677d2e52392c",
   "metadata": {},
   "outputs": [
    {
     "data": {
      "text/plain": [
       "array([0.4253])"
      ]
     },
     "execution_count": 13,
     "metadata": {},
     "output_type": "execute_result"
    }
   ],
   "source": [
    "beta_estimate"
   ]
  },
  {
   "cell_type": "code",
   "execution_count": 5,
   "id": "0975088d-5b00-4df6-b8a3-87fbfbad3bae",
   "metadata": {},
   "outputs": [],
   "source": [
    "theta_0 = np.float64(0)\n",
    "num_samples = 100000\n",
    "\n",
    "n = 10\n",
    "x0 = np.zeros(n, dtype=np.float64)\n",
    "x1 = np.array([1] + [0] * (n - 1), dtype=np.float64)\n",
    "\n",
    "theta0 = np.full(num_samples, np.float64(theta_0))\n",
    "theta1 = np.full(num_samples, np.float64(theta_0))"
   ]
  },
  {
   "cell_type": "code",
   "execution_count": 7,
   "id": "4fd4defc-0f9f-4de6-8acc-d886e8fd159d",
   "metadata": {},
   "outputs": [],
   "source": [
    "x = np.arange(10)   # Array [0, 1, 2, ..., 9]\n",
    "m = 5               # Size of each subset\n",
    "num_samples = 100000\n",
    "samples = np.random.permutation(np.tile(x, (num_samples, 1)))[:, :m]"
   ]
  },
  {
   "cell_type": "code",
   "execution_count": 29,
   "id": "ee46ce6f-f475-459f-8ce4-ffe74cde396a",
   "metadata": {},
   "outputs": [],
   "source": [
    "from numpy.random import MT19937, RandomState\n",
    "import secrets\n",
    "import time\n",
    "seed = secrets.randbits(128)\n",
    "rng = RandomState(MT19937(seed))"
   ]
  },
  {
   "cell_type": "code",
   "execution_count": 42,
   "id": "1acec24e-7bc8-488c-94df-046a7def6a83",
   "metadata": {},
   "outputs": [],
   "source": [
    "test_train_sample_size = 1000000\n",
    "test_test_sample_size = 1000000\n",
    "\n",
    "import mech.toy_DPSGD as DP_SGDModule\n",
    "kwargs = DP_SGDModule.generate_params(num_train_samples = test_train_sample_size, num_test_samples = test_test_sample_size)"
   ]
  },
  {
   "cell_type": "code",
   "execution_count": 53,
   "id": "acc40ab5-ef98-4be9-815e-1fb9c14f2cbb",
   "metadata": {},
   "outputs": [],
   "source": [
    "theta_0 = kwargs[\"sgd_alg\"][\"theta_0\"]\n",
    "T = kwargs[\"sgd_alg\"][\"T\"]\n",
    "m = kwargs[\"sgd_alg\"][\"m\"]\n",
    "eta_learn = kwargs[\"sgd_alg\"][\"eta\"]\n",
    "sigma = kwargs[\"sgd_alg\"][\"sigma\"]"
   ]
  },
  {
   "cell_type": "code",
   "execution_count": 47,
   "id": "55549a0d-2f9a-44b8-93d2-9cf432456a97",
   "metadata": {},
   "outputs": [],
   "source": [
    "from scipy.stats import norm\n",
    "from itertools import combinations\n",
    "\n",
    "def calc_mu(x, m, eta_learn, T_):\n",
    "    \"\"\"\n",
    "    Calculate mu based on the given parameters.\n",
    "    \n",
    "    Parameters: \n",
    "    x: database, the input of the SGD algorithm\n",
    "    m: size of the subset of database in each interation\n",
    "    eta_learn: learning rate of each step\n",
    "    T_: the number of iteration\n",
    "    \"\"\"\n",
    "    mu = np.sum(eta_learn * (1 - eta_learn)**(T_ - np.array(x)) / m)\n",
    "    return mu"
   ]
  },
  {
   "cell_type": "code",
   "execution_count": 49,
   "id": "09d6c516-c982-436e-86a0-050de026a2c9",
   "metadata": {},
   "outputs": [],
   "source": [
    "# Initialize mu_vector\n",
    "mu_vector = []\n",
    "for k in range(1, T + 1):\n",
    "    k_combinations = list(combinations(range(1, T + 1), k))\n",
    "    mu_values = [calc_mu(x, m=m, eta_learn=eta, T_=T) for x in k_combinations]\n",
    "    mu_vector.extend(mu_values)"
   ]
  },
  {
   "cell_type": "code",
   "execution_count": 54,
   "id": "2f1f928c-b23f-40a8-8176-922cd7545835",
   "metadata": {},
   "outputs": [],
   "source": [
    "sigma_tilde = eta_learn * sigma * np.sqrt((1 - (1 - eta_learn)**(2 * T)) / (1 - (1 - eta_learn)**2))"
   ]
  },
  {
   "cell_type": "code",
   "execution_count": 56,
   "id": "ff63b17b-dd4e-4cb7-963b-01556f9e9a06",
   "metadata": {},
   "outputs": [
    {
     "data": {
      "text/plain": [
       "0.3252972912981455"
      ]
     },
     "execution_count": 56,
     "metadata": {},
     "output_type": "execute_result"
    }
   ],
   "source": [
    "alpha = 0.2\n",
    "np.sum(norm.cdf(norm.ppf(1 - alpha) - np.array(mu_vector) / sigma_tilde) / 2**T)"
   ]
  },
  {
   "cell_type": "code",
   "execution_count": 58,
   "id": "f3193a4a-ea24-467a-9d42-4a75e72c202c",
   "metadata": {},
   "outputs": [
    {
     "data": {
      "text/plain": [
       "(1023,)"
      ]
     },
     "execution_count": 58,
     "metadata": {},
     "output_type": "execute_result"
    }
   ],
   "source": [
    "norm.cdf(norm.ppf(1 - alpha) - np.array(mu_vector) / sigma_tilde).shape"
   ]
  },
  {
   "cell_type": "code",
   "execution_count": 60,
   "id": "23ec0a2f-ef92-4291-983d-0b98b94db419",
   "metadata": {},
   "outputs": [
    {
     "data": {
      "text/plain": [
       "array([0.08099892, 0.10124865, 0.12656081, ..., 2.5922005 , 2.61245023,\n",
       "       2.69344914])"
      ]
     },
     "execution_count": 60,
     "metadata": {},
     "output_type": "execute_result"
    }
   ],
   "source": [
    "np.array(mu_vector) / sigma_tilde"
   ]
  },
  {
   "cell_type": "code",
   "execution_count": null,
   "id": "c7d7fa65-ba8d-48cf-8e50-e73a2b29b462",
   "metadata": {},
   "outputs": [],
   "source": []
  }
 ],
 "metadata": {
  "kernelspec": {
   "display_name": "Python 3.9 (Default)",
   "language": "python",
   "name": "python3"
  },
  "language_info": {
   "codemirror_mode": {
    "name": "ipython",
    "version": 3
   },
   "file_extension": ".py",
   "mimetype": "text/x-python",
   "name": "python",
   "nbconvert_exporter": "python",
   "pygments_lexer": "ipython3",
   "version": "3.9.7"
  }
 },
 "nbformat": 4,
 "nbformat_minor": 5
}
