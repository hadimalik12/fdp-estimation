{
 "cells": [
  {
   "cell_type": "code",
   "execution_count": 1,
   "id": "166863bc-eb8c-4ca6-9ef7-170a7b64faef",
   "metadata": {},
   "outputs": [],
   "source": [
    "import numpy as np\n",
    "import os\n",
    "import sys\n",
    "import time\n",
    "import logging\n",
    "import matplotlib.pyplot as plt\n",
    "\n",
    "# Navigate to the parent directory of the project structure\n",
    "project_dir = os.path.abspath(os.path.join(os.getcwd(), '..'))\n",
    "src_dir = os.path.join(project_dir, 'src')\n",
    "\n",
    "# Add the src directory to sys.path\n",
    "sys.path.append(src_dir)\n",
    "\n",
    "from analysis.tradeoff_Gaussian import Gaussian_compute_tradeoff_curve\n",
    "from analysis.tradeoff_Laplace import Laplace_compute_tradeoff_curve\n",
    "\n",
    "from mech.GaussianDist import *"
   ]
  },
  {
   "cell_type": "code",
   "execution_count": 2,
   "id": "f6facff0-c766-4869-87f0-8f88c09c8781",
   "metadata": {},
   "outputs": [],
   "source": [
    "#logging.basicConfig(\n",
    "  #  level=logging.INFO,\n",
    "   # format=\"%(asctime)s %(message)s\",\n",
    "    #handlers=[\n",
    "     #   logging.FileHandler(\"/../log/tradeoff-kNN-Gaussian.log\")\n",
    "   # logging.StreamHandler()\n",
    "  # ]\n",
    "#)\n",
    "\n",
    "\n",
    "kwargs = generate_params(num_train_samples = 100000, num_test_samples = 100000)\n",
    "estimator = GaussianDistEstimator(kwargs)"
   ]
  },
  {
   "cell_type": "code",
   "execution_count": 3,
   "id": "29f79470-474e-45f2-bece-ce9fec953472",
   "metadata": {},
   "outputs": [],
   "source": [
    "eta_values = np.linspace(0.01, 5, 500)\n",
    "alpha_values_thm, beta_values_thm = Gaussian_compute_tradeoff_curve(eta_values)"
   ]
  },
  {
   "cell_type": "code",
   "execution_count": 4,
   "id": "52102ce9-f821-4548-af89-ab13a4e679c2",
   "metadata": {},
   "outputs": [
    {
     "data": {
      "text/plain": [
       "(500,)"
      ]
     },
     "execution_count": 4,
     "metadata": {},
     "output_type": "execute_result"
    }
   ],
   "source": [
    "eta_values.shape"
   ]
  },
  {
   "cell_type": "code",
   "execution_count": 4,
   "id": "7c597f94-76cf-4d95-9818-7b6d9fc66346",
   "metadata": {},
   "outputs": [],
   "source": [
    "output = estimator.build(eta = eta_values, nworkers=50)"
   ]
  },
  {
   "cell_type": "code",
   "execution_count": 5,
   "id": "328ec135-1f39-45c8-a95a-34b1a9eb6123",
   "metadata": {},
   "outputs": [],
   "source": [
    "alpha_values_estimate = output[\"alpha\"]\n",
    "\n",
    "beta_values_estimate = output[\"beta\"]"
   ]
  },
  {
   "cell_type": "code",
   "execution_count": 6,
   "id": "15629e56-5310-45c0-9e28-4eaeb8d89822",
   "metadata": {},
   "outputs": [
    {
     "data": {
      "image/png": "[encoded data removed]",
      "text/plain": [
       "<Figure size 576x432 with 1 Axes>"
      ]
     },
     "metadata": {
      "needs_background": "light"
     },
     "output_type": "display_data"
    }
   ],
   "source": [
    "# Plot the curve\n",
    "plt.figure(figsize=(8, 6))\n",
    "plt.plot(alpha_values_thm, beta_values_thm, label=r\"theoretical $\\beta(\\alpha)$\", linewidth=2)\n",
    "plt.plot(alpha_values_estimate, beta_values_estimate, label=r\"estimate $\\beta(\\alpha)$\", linestyle='none', marker='o', linewidth=2)\n",
    "plt.xlabel(r\"$\\alpha$\", fontsize=14)\n",
    "plt.ylabel(r\"$\\beta$\", fontsize=14)\n",
    "plt.title(r\"Tradeoff Curve for Gaussian pair $N(0,1)$ and $N(1, 1)$ ($n=10^5$)\", fontsize=16)\n",
    "plt.grid(True)\n",
    "plt.legend(fontsize=12)\n",
    "plt.savefig(os.getcwd()+\"/../fig/tradeoff_Gaussian_105.png\", bbox_inches = 'tight', dpi = 300);\n",
    "plt.show()"
   ]
  },
  {
   "cell_type": "code",
   "execution_count": 7,
   "id": "3171ed2c-275e-47ec-949d-1cc97bcba02d",
   "metadata": {},
   "outputs": [
    {
     "data": {
      "text/plain": [
       "array([1.     , 1.     , 1.     , 1.     , 1.     , 1.     , 1.     ,\n",
       "       1.     , 1.     , 1.     , 1.     , 1.     , 1.     , 1.     ,\n",
       "       0.97053, 0.94529, 0.92565, 0.90739, 0.89265, 0.87844, 0.86586,\n",
       "       0.85876, 0.83843, 0.84075, 0.81595, 0.79667, 0.80092, 0.79222,\n",
       "       0.77561, 0.76224, 0.75334, 0.75196, 0.7334 , 0.70994, 0.70364,\n",
       "       0.69069, 0.68258, 0.68117, 0.66273, 0.65006, 0.62036, 0.62106,\n",
       "       0.61617, 0.6136 , 0.60997, 0.60179, 0.59585, 0.5877 , 0.58691,\n",
       "       0.58403, 0.58198, 0.56745, 0.56316, 0.54258, 0.53479, 0.54605,\n",
       "       0.52366, 0.52105, 0.51584, 0.51516, 0.51364, 0.49913, 0.49939,\n",
       "       0.49367, 0.48328, 0.4822 , 0.47453, 0.46962, 0.45349, 0.44788,\n",
       "       0.44909, 0.4385 , 0.42402, 0.42183, 0.41798, 0.41247, 0.40742,\n",
       "       0.40404, 0.40319, 0.39181, 0.3945 , 0.38707, 0.38552, 0.37795,\n",
       "       0.37119, 0.3667 , 0.36594, 0.36301, 0.36298, 0.35863, 0.35614,\n",
       "       0.35127, 0.34504, 0.3416 , 0.33839, 0.33673, 0.33078, 0.32798,\n",
       "       0.31436, 0.30664, 0.29984, 0.29757, 0.29638, 0.29326, 0.29243,\n",
       "       0.28632, 0.27607, 0.26514, 0.26126, 0.25754, 0.25688, 0.25632,\n",
       "       0.25514, 0.25642, 0.25312, 0.2519 , 0.2525 , 0.25137, 0.25059,\n",
       "       0.2473 , 0.24776, 0.24707, 0.24324, 0.23875, 0.23275, 0.22752,\n",
       "       0.22405, 0.22469, 0.22285, 0.22434, 0.2169 , 0.21908, 0.21562,\n",
       "       0.21672, 0.21314, 0.2144 , 0.21271, 0.20909, 0.20177, 0.20605,\n",
       "       0.19772, 0.20114, 0.19642, 0.1965 , 0.1924 , 0.18938, 0.18594,\n",
       "       0.18453, 0.18124, 0.18343, 0.18299, 0.18137, 0.17809, 0.17481,\n",
       "       0.1806 , 0.17904, 0.17112, 0.17335, 0.17088, 0.16478, 0.16519,\n",
       "       0.16812, 0.16664, 0.15898, 0.16359, 0.14012, 0.15302, 0.14994,\n",
       "       0.14079, 0.14067, 0.14085, 0.13736, 0.13386, 0.13554, 0.13533,\n",
       "       0.13482, 0.1402 , 0.1329 , 0.13325, 0.13255, 0.13306, 0.13236,\n",
       "       0.12986, 0.12989, 0.13012, 0.1274 , 0.12767, 0.12714, 0.12874,\n",
       "       0.12586, 0.12627, 0.12569, 0.12743, 0.12446, 0.12524, 0.12475,\n",
       "       0.12533, 0.11688, 0.12472, 0.11682, 0.12403, 0.11974, 0.12482,\n",
       "       0.11556, 0.11672, 0.12179, 0.11704, 0.11247, 0.11749, 0.10793,\n",
       "       0.10911, 0.11708, 0.10637, 0.11018, 0.10466, 0.10522, 0.10072,\n",
       "       0.10236, 0.10286, 0.10064, 0.10057, 0.10206, 0.09839, 0.09972,\n",
       "       0.1038 , 0.09799, 0.10142, 0.09944, 0.0964 , 0.09677, 0.09846,\n",
       "       0.0971 , 0.09591, 0.09639, 0.09367, 0.09692, 0.09086, 0.09333,\n",
       "       0.09234, 0.0902 , 0.09115, 0.08945, 0.08893, 0.08872, 0.08985,\n",
       "       0.08862, 0.08872, 0.08872, 0.08846, 0.08144, 0.08421, 0.08752,\n",
       "       0.08186, 0.07854, 0.08663, 0.08514, 0.089  , 0.07948, 0.07185,\n",
       "       0.08089, 0.07274, 0.07632, 0.07137, 0.08345, 0.0669 , 0.07007,\n",
       "       0.06563, 0.06343, 0.06245, 0.06435, 0.06468, 0.06274, 0.06067,\n",
       "       0.06247, 0.06451, 0.06122, 0.05995, 0.06072, 0.05544, 0.05679,\n",
       "       0.06039, 0.05826, 0.06068, 0.05282, 0.05472, 0.05512, 0.05633,\n",
       "       0.05394, 0.05298, 0.05325, 0.05396, 0.05336, 0.05389, 0.05415,\n",
       "       0.05487, 0.05273, 0.04905, 0.05333, 0.05297, 0.05212, 0.05309,\n",
       "       0.04956, 0.05064, 0.04819, 0.04966, 0.04831, 0.04831, 0.04949,\n",
       "       0.04627, 0.04597, 0.05014, 0.04764, 0.0466 , 0.04647, 0.04773,\n",
       "       0.04553, 0.04534, 0.04771, 0.04647, 0.04503, 0.04435, 0.04314,\n",
       "       0.04474, 0.04356, 0.04499, 0.04417, 0.04213, 0.04473, 0.04231,\n",
       "       0.04338, 0.04381, 0.04356, 0.04197, 0.04392, 0.04303, 0.04141,\n",
       "       0.04167, 0.04131, 0.03927, 0.04343, 0.04298, 0.03958, 0.04075,\n",
       "       0.04217, 0.04058, 0.0418 , 0.03831, 0.03912, 0.03931, 0.03835,\n",
       "       0.03695, 0.03571, 0.03836, 0.03687, 0.03837, 0.03763, 0.03456,\n",
       "       0.03616, 0.03834, 0.03821, 0.0359 , 0.03261, 0.03446, 0.03612,\n",
       "       0.03777, 0.03406, 0.03284, 0.03525, 0.03475, 0.03339, 0.03376,\n",
       "       0.03356, 0.03255, 0.03705, 0.03609, 0.03123, 0.03362, 0.03371,\n",
       "       0.03419, 0.03199, 0.03221, 0.02844, 0.03101, 0.03041, 0.02891,\n",
       "       0.03095, 0.03046, 0.03049, 0.03123, 0.02855, 0.03116, 0.03048,\n",
       "       0.02917, 0.03253, 0.02773, 0.03041, 0.02908, 0.02843, 0.02813,\n",
       "       0.02734, 0.02745, 0.02795, 0.02792, 0.02804, 0.02844, 0.02735,\n",
       "       0.02785, 0.02596, 0.02631, 0.02606, 0.02702, 0.02517, 0.02561,\n",
       "       0.026  , 0.02459, 0.02614, 0.02596, 0.02692, 0.02637, 0.02438,\n",
       "       0.02416, 0.02485, 0.02362, 0.02383, 0.02316, 0.02446, 0.02405,\n",
       "       0.02556, 0.02301, 0.02366, 0.02452, 0.02322, 0.02594, 0.02332,\n",
       "       0.02159, 0.02253, 0.02248, 0.02321, 0.0226 , 0.02224, 0.02342,\n",
       "       0.02433, 0.02158, 0.02276, 0.02417, 0.02371, 0.02205, 0.01933,\n",
       "       0.01978, 0.02249, 0.02132, 0.02164, 0.01945, 0.01993, 0.02158,\n",
       "       0.02095, 0.02   , 0.02003, 0.01923, 0.02058, 0.02152, 0.01926,\n",
       "       0.01967, 0.01985, 0.01967, 0.01771, 0.01897, 0.0199 , 0.0211 ,\n",
       "       0.01939, 0.0199 , 0.0196 , 0.02054, 0.01852, 0.01756, 0.0194 ,\n",
       "       0.01575, 0.01819, 0.01609, 0.01772, 0.0182 , 0.01899, 0.0163 ,\n",
       "       0.01712, 0.01634, 0.01478, 0.01568, 0.01779, 0.01824, 0.01697,\n",
       "       0.01908, 0.01626, 0.01686, 0.01474, 0.01641, 0.01756, 0.01672,\n",
       "       0.0174 , 0.01534, 0.01522])"
      ]
     },
     "execution_count": 7,
     "metadata": {},
     "output_type": "execute_result"
    }
   ],
   "source": [
    "beta_values_estimate"
   ]
  }
 ],
 "metadata": {
  "kernelspec": {
   "display_name": "Python 3.9 (Default)",
   "language": "python",
   "name": "python3"
  },
  "language_info": {
   "codemirror_mode": {
    "name": "ipython",
    "version": 3
   },
   "file_extension": ".py",
   "mimetype": "text/x-python",
   "name": "python",
   "nbconvert_exporter": "python",
   "pygments_lexer": "ipython3",
   "version": "3.9.7"
  }
 },
 "nbformat": 4,
 "nbformat_minor": 5
}
