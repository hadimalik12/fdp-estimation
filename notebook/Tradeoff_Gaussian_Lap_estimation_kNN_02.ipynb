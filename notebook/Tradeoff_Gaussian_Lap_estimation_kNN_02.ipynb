{
 "cells": [
  {
   "cell_type": "code",
   "execution_count": 1,
   "id": "166863bc-eb8c-4ca6-9ef7-170a7b64faef",
   "metadata": {},
   "outputs": [],
   "source": [
    "import numpy as np\n",
    "from scipy.special import erf\n",
    "import os\n",
    "import sys\n",
    "import time\n",
    "import logging\n",
    "import matplotlib.pyplot as plt\n",
    "\n",
    "# Navigate to the parent directory of the project structure\n",
    "project_dir = os.path.abspath(os.path.join(os.getcwd(), '..'))\n",
    "src_dir = os.path.join(project_dir, 'src')\n",
    "\n",
    "# Add the src directory to sys.path\n",
    "sys.path.append(src_dir)\n",
    "\n",
    "from analysis.tradeoff_Gaussian import Gaussian_compute_tradeoff_curve\n",
    "from analysis.tradeoff_Laplace import Laplace_compute_tradeoff_curve\n",
    "\n",
    "from mech.GaussianDist import *\n",
    "from classifier.kNN import train_kNN_model"
   ]
  },
  {
   "cell_type": "code",
   "execution_count": 2,
   "id": "f6facff0-c766-4869-87f0-8f88c09c8781",
   "metadata": {},
   "outputs": [],
   "source": [
    "logging.basicConfig(\n",
    "    level=logging.INFO,\n",
    "    format=\"%(asctime)s %(message)s\",\n",
    "    handlers=[\n",
    "        logging.StreamHandler()\n",
    "    ]\n",
    ")\n",
    "\n",
    "dim = 1\n",
    "kwargs = generate_params(num_train_samples = 100000, num_test_samples = 50000)\n",
    "classifier_args = {\n",
    "    \"name\" : \"kNN\"\n",
    "}\n",
    "estimator = GaussianDistEstimator(kwargs)"
   ]
  },
  {
   "cell_type": "code",
   "execution_count": 3,
   "id": "29f79470-474e-45f2-bece-ce9fec953472",
   "metadata": {},
   "outputs": [
    {
     "data": {
      "text/plain": [
       "(0.5765781482392448, 0.11640586826199839)"
      ]
     },
     "execution_count": 3,
     "metadata": {},
     "output_type": "execute_result"
    }
   ],
   "source": [
    "eta = 2\n",
    "Gaussian_compute_tradeoff_curve(eta)"
   ]
  },
  {
   "cell_type": "code",
   "execution_count": 4,
   "id": "7c597f94-76cf-4d95-9818-7b6d9fc66346",
   "metadata": {},
   "outputs": [
    {
     "name": "stderr",
     "output_type": "stream",
     "text": [
      "2024-11-26 01:13:17,035 Generating samples...\n",
      "2024-11-26 01:13:17,053 Generated 50000 testing samples and 100000 training samples in 0.0178 seconds\n",
      "2024-11-26 01:13:17,056 Build kNN classifier\n",
      "2024-11-26 01:13:17,057 use the optimized one dimensional KNN algorithm\n",
      "2024-11-26 01:13:17,075 Classifier is built in 0.0186s\n",
      "2024-11-26 01:13:20,555 Estimation is completed in 3.4794s\n"
     ]
    },
    {
     "data": {
      "text/plain": [
       "{'eta': 2,\n",
       " 'alpha': 0.5690200000000001,\n",
       " 'beta': 0.12253999999999998,\n",
       " 'training_sample_size': 100000,\n",
       " 'testing_sample_size': 50000}"
      ]
     },
     "execution_count": 4,
     "metadata": {},
     "output_type": "execute_result"
    }
   ],
   "source": [
    "estimator.build(eta = eta)"
   ]
  },
  {
   "cell_type": "code",
   "execution_count": null,
   "id": "c0a0a7cb-7421-4f5b-9e39-1788e253a372",
   "metadata": {},
   "outputs": [],
   "source": []
  }
 ],
 "metadata": {
  "kernelspec": {
   "display_name": "Python 3.11 (Anaconda 2024.02)",
   "language": "python",
   "name": "anaconda-2024.02-py311"
  },
  "language_info": {
   "codemirror_mode": {
    "name": "ipython",
    "version": 3
   },
   "file_extension": ".py",
   "mimetype": "text/x-python",
   "name": "python",
   "nbconvert_exporter": "python",
   "pygments_lexer": "ipython3",
   "version": "3.11.7"
  }
 },
 "nbformat": 4,
 "nbformat_minor": 5
}
