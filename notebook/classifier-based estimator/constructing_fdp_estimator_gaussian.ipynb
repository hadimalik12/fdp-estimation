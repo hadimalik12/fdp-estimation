{
 "cells": [
  {
   "cell_type": "markdown",
   "id": "628804bd-7967-4125-a7e3-aa432cac9119",
   "metadata": {},
   "source": [
    "# Constructing an $f$-DP Estimator for the Gaussian Mechanism from kNN classifier"
   ]
  },
  {
   "cell_type": "markdown",
   "id": "4999c1c5-6308-4564-a0de-7a735c9f860b",
   "metadata": {},
   "source": [
    "## Description\n",
    "\n",
    "This notebook demonstrates how to construct a $f$-differential privacy ($f$-DP) estimator for the Gaussian Mechanism. It shows given a pair of Gaussian distribution $N(0, 1)$ and $N(1, 1)$, and an $\\eta >0$, how to construct a $f$-DP estimator that outputs an estimate of the point $(\\alpha(\\eta), (\\beta(\\eta))$ in the trade-off curve for distribution pairs $P \\sim N(0, 1)$ and $Q \\sim N(1, 1)$.\n",
    "\n",
    "The program implements the BayBox algorithm given in Algorithm 1."
   ]
  },
  {
   "cell_type": "markdown",
   "id": "51696fcb-b6e8-4ba6-80a5-00536811b84b",
   "metadata": {},
   "source": [
    "### Step 1: Import Packages"
   ]
  },
  {
   "cell_type": "code",
   "execution_count": 1,
   "id": "166863bc-eb8c-4ca6-9ef7-170a7b64faef",
   "metadata": {},
   "outputs": [],
   "source": [
    "import numpy as np\n",
    "from scipy.special import erf\n",
    "import os\n",
    "import sys\n",
    "import time\n",
    "import matplotlib.pyplot as plt\n",
    "\n",
    "# Navigate to the parent directory of the project structure\n",
    "project_dir = os.path.abspath(os.path.join(os.getcwd(), '../..'))\n",
    "src_dir = os.path.join(project_dir, 'src')\n",
    "\n",
    "# Add the src directory to sys.path\n",
    "sys.path.append(src_dir)\n",
    "\n",
    "from analysis.tradeoff_Gaussian import Gaussian_compute_tradeoff_curve\n",
    "from analysis.tradeoff_Laplace import Laplace_compute_tradeoff_curve\n",
    "\n",
    "from mech.GaussianDist import *\n",
    "from classifier.kNN import train_kNN_model"
   ]
  },
  {
   "cell_type": "markdown",
   "id": "550f303c-87e8-482e-b61d-3958148b347f",
   "metadata": {},
   "source": [
    "### Step 2: Instantiate Gaussian Distribution Sampler"
   ]
  },
  {
   "cell_type": "code",
   "execution_count": 2,
   "id": "f6facff0-c766-4869-87f0-8f88c09c8781",
   "metadata": {},
   "outputs": [],
   "source": [
    "dim = 1\n",
    "kwargs = generate_params(mean0 = np.zeros(dim), cov0 = np.identity(dim), mean1 = np.ones(dim), cov1 = np.identity(dim))\n",
    "sampler = GaussianDistSampler(kwargs)"
   ]
  },
  {
   "cell_type": "markdown",
   "id": "fcb3bb60-85aa-40a5-8f3a-4321ad76a885",
   "metadata": {},
   "source": [
    "## 3 Estimate $(\\alpha(\\eta), (\\beta(\\eta))$ for $\\eta>=1$"
   ]
  },
  {
   "cell_type": "markdown",
   "id": "d631899d-b1b3-4198-bc54-b735c75411e5",
   "metadata": {},
   "source": [
    "### Step 3.1 Show the theoretical result"
   ]
  },
  {
   "cell_type": "code",
   "execution_count": 3,
   "id": "c7a225e4-ee7f-4965-a404-44bba2b3f6a6",
   "metadata": {},
   "outputs": [
    {
     "data": {
      "text/plain": [
       "(np.float64(0.37536443231311667), np.float64(0.24751782253992788))"
      ]
     },
     "execution_count": 3,
     "metadata": {},
     "output_type": "execute_result"
    }
   ],
   "source": [
    "eta = 1.2\n",
    "Gaussian_compute_tradeoff_curve(eta)"
   ]
  },
  {
   "cell_type": "markdown",
   "id": "e407f753-9ee4-4f92-93d4-b27a6cf86a6c",
   "metadata": {},
   "source": [
    "### Step 3.2 Train a kNN classifier for Bayesian Problem $P[[P]_\\eta, Q]$"
   ]
  },
  {
   "cell_type": "code",
   "execution_count": 4,
   "id": "a6f02fb5-6cb5-47ac-a4f4-26f2e3c50533",
   "metadata": {},
   "outputs": [
    {
     "name": "stdout",
     "output_type": "stream",
     "text": [
      "Generated model in 0.41s with 1000000 samples\n"
     ]
    }
   ],
   "source": [
    "start_time = time.time()\n",
    "num_train_samples = 1000000\n",
    "train_samples= sampler.gen_samples(eta=eta, num_samples=num_train_samples)\n",
    "model = train_kNN_model(train_samples, dim)\n",
    "\n",
    "print(f\"Generated model in {time.time() - start_time:.2f}s with {num_train_samples} samples\")"
   ]
  },
  {
   "cell_type": "markdown",
   "id": "38f1a7b7-ba3b-4865-a8d1-db55ea0e5044",
   "metadata": {},
   "source": [
    "### Step 3.3 Estimate the risk of the kNN classifier"
   ]
  },
  {
   "cell_type": "code",
   "execution_count": 5,
   "id": "3a08db33-d1c5-4c5e-8a54-7dc1adde1c78",
   "metadata": {},
   "outputs": [
    {
     "name": "stdout",
     "output_type": "stream",
     "text": [
      "Generated 100000 testing samples in 0.00s\n"
     ]
    }
   ],
   "source": [
    "start_time = time.time()\n",
    "num_test_samples = 100000\n",
    "samples = sampler.gen_samples(eta=1, num_samples=num_test_samples)\n",
    "print(f\"Generated {num_test_samples} testing samples in {time.time() - start_time:.2f}s\")"
   ]
  },
  {
   "cell_type": "markdown",
   "id": "7117c78f-3ab7-492d-b586-5185896f4cd0",
   "metadata": {},
   "source": [
    "### Step 3.4 Convert the risk to an estimate of $(\\alpha(\\eta), (\\beta(\\eta))$"
   ]
  },
  {
   "cell_type": "code",
   "execution_count": 6,
   "id": "5a665ac3-a47c-4c4d-8bb6-5fee5a4f4fa2",
   "metadata": {},
   "outputs": [
    {
     "name": "stdout",
     "output_type": "stream",
     "text": [
      "(alpha, beta) w.r.t 1.2 is (0.37859, 0.24680000000000002) [Computation time is 19.19]\n"
     ]
    }
   ],
   "source": [
    "start_time = time.time()\n",
    "alpha = 1 - model.score(samples['X'][:num_test_samples], samples['y'][:num_test_samples])\n",
    "beta = 1 - model.score(samples['X'][num_test_samples:], samples['y'][num_test_samples:])\n",
    "print(f\"(alpha, beta) w.r.t {eta} is ({alpha}, {beta}) [Computation time is {time.time() - start_time:.2f}]\")"
   ]
  },
  {
   "cell_type": "markdown",
   "id": "565bd966-382b-4119-ba15-6d867df1cea6",
   "metadata": {},
   "source": [
    "## 3 Estimate $(\\alpha(\\eta), (\\beta(\\eta))$ for $\\eta<1$"
   ]
  },
  {
   "cell_type": "code",
   "execution_count": 7,
   "id": "410d98e8-3f54-4bd2-b7ad-f82a3d3396f5",
   "metadata": {},
   "outputs": [
    {
     "data": {
      "text/plain": [
       "(np.float64(0.07834520013706386), np.float64(0.6614013631638339))"
      ]
     },
     "execution_count": 7,
     "metadata": {},
     "output_type": "execute_result"
    }
   ],
   "source": [
    "eta=0.4\n",
    "Gaussian_compute_tradeoff_curve(eta)"
   ]
  },
  {
   "cell_type": "code",
   "execution_count": 8,
   "id": "30e89fa5-cce2-4de0-8b21-9ad9f1e19c8f",
   "metadata": {},
   "outputs": [
    {
     "name": "stdout",
     "output_type": "stream",
     "text": [
      "Generated model in 0.02s with 100000 samples\n"
     ]
    }
   ],
   "source": [
    "start_time = time.time()\n",
    "num_train_samples = 100000\n",
    "train_samples= sampler.gen_samples(eta=eta, num_samples=num_train_samples)\n",
    "model = train_kNN_model(train_samples, dim)\n",
    "\n",
    "print(f\"Generated model in {time.time() - start_time:.2f}s with {num_train_samples} samples\")"
   ]
  },
  {
   "cell_type": "code",
   "execution_count": 9,
   "id": "510539f8-6bb8-4209-acbe-32d3bec8a3e5",
   "metadata": {},
   "outputs": [
    {
     "name": "stdout",
     "output_type": "stream",
     "text": [
      "Generated 10000 testing samples in 0.00s\n"
     ]
    }
   ],
   "source": [
    "start_time = time.time()\n",
    "num_test_samples = 10000\n",
    "samples = sampler.gen_samples(eta=1, num_samples=num_test_samples)\n",
    "print(f\"Generated {num_test_samples} testing samples in {time.time() - start_time:.2f}s\")"
   ]
  },
  {
   "cell_type": "code",
   "execution_count": 10,
   "id": "c5e42488-bc42-4fec-bc71-8e1c7a13f5de",
   "metadata": {},
   "outputs": [
    {
     "name": "stdout",
     "output_type": "stream",
     "text": [
      "(alpha, beta) w.r.t 0.4 is (0.0806, 0.6563) [Computation time is 1.83]\n"
     ]
    }
   ],
   "source": [
    "start_time = time.time()\n",
    "alpha = 1 - model.score(samples['X'][:num_test_samples], samples['y'][:num_test_samples])\n",
    "beta = 1 - model.score(samples['X'][num_test_samples:], samples['y'][num_test_samples:])\n",
    "print(f\"(alpha, beta) w.r.t {eta} is ({alpha}, {beta}) [Computation time is {time.time() - start_time:.2f}]\")"
   ]
  }
 ],
 "metadata": {
  "kernelspec": {
   "display_name": "Python 3 (ipykernel)",
   "language": "python",
   "name": "python3"
  },
  "language_info": {
   "codemirror_mode": {
    "name": "ipython",
    "version": 3
   },
   "file_extension": ".py",
   "mimetype": "text/x-python",
   "name": "python",
   "nbconvert_exporter": "python",
   "pygments_lexer": "ipython3",
   "version": "3.10.12"
  }
 },
 "nbformat": 4,
 "nbformat_minor": 5
}
