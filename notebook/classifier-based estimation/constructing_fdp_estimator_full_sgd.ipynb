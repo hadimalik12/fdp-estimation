{
 "cells": [
  {
   "cell_type": "code",
   "execution_count": 1,
   "id": "166863bc-eb8c-4ca6-9ef7-170a7b64faef",
   "metadata": {},
   "outputs": [],
   "source": [
    "import os\n",
    "import sys\n",
    "\n",
    "# Navigate to the parent directory of the project structure\n",
    "project_dir = os.path.abspath(os.path.join(os.getcwd(), '../..'))\n",
    "src_dir = os.path.join(project_dir, 'src')\n",
    "fig_dir = os.path.join(project_dir, 'fig')\n",
    "data_dir = os.path.join(project_dir, 'data')\n",
    "log_dir = os.path.join(project_dir, 'log')\n",
    "os.makedirs(fig_dir, exist_ok=True)\n",
    "\n",
    "# Add the src directory to sys.path\n",
    "sys.path.append(src_dir)\n",
    "import matplotlib.pyplot as plt\n",
    "import numpy as np\n",
    "\n",
    "import mech.full_DPSGD as DPSGDModule\n",
    "from analysis.tradeoff_Gaussian import Gaussian_curve"
   ]
  },
  {
   "cell_type": "code",
   "execution_count": 2,
   "id": "f6facff0-c766-4869-87f0-8f88c09c8781",
   "metadata": {},
   "outputs": [
    {
     "name": "stdout",
     "output_type": "stream",
     "text": [
      "Files already downloaded and verified\n"
     ]
    },
    {
     "name": "stderr",
     "output_type": "stream",
     "text": [
      "05/18/2025 23:28:25:INFO:Initialized convnet_balanced_DPSGDSampler with parameters: batch_size=512, epochs=20, lr=0.10, sigma=1.00, max_grad_norm=1.00, device=cpu\n"
     ]
    }
   ],
   "source": [
    "model_name = 'convnet_balanced'\n",
    "database_size = 1000\n",
    "epochs = 20\n",
    "internal_result_path_dir = \"/scratch/bell/wei402/fdp-estimation/results\"\n",
    "\n",
    "internal_result_path = os.path.join(internal_result_path_dir, model_name+'_'+str(database_size)+'_'+str(epochs))\n",
    "\n",
    "\n",
    "data_args = {\n",
    "    \"method\": \"default\",\n",
    "    \"data_dir\": data_dir,\n",
    "    \"internal_result_path\": internal_result_path\n",
    "}\n",
    "\n",
    "sampler_args = DPSGDModule.generate_params(data_args=data_args, log_dir=log_dir, model_name=model_name, database_size=database_size, epochs=epochs, auditing_approach=\"1d_cross_entropy\", num_test_samples=1000)\n",
    "sampler = DPSGDModule.DPSGDSampler(sampler_args)"
   ]
  },
  {
   "cell_type": "markdown",
   "id": "fcb3bb60-85aa-40a5-8f3a-4321ad76a885",
   "metadata": {},
   "source": [
    "### 3 Estimate $(\\alpha(\\eta), \\beta(\\eta))$ for $\\eta>=1$"
   ]
  },
  {
   "cell_type": "code",
   "execution_count": 3,
   "id": "c7a225e4-ee7f-4965-a404-44bba2b3f6a6",
   "metadata": {},
   "outputs": [
    {
     "data": {
      "text/plain": [
       "(array(0.3639184), array(0.25272111))"
      ]
     },
     "execution_count": 3,
     "metadata": {},
     "output_type": "execute_result"
    }
   ],
   "source": [
    "eta = 1.2\n",
    "Laplace_compute_tradeoff_curve(eta)"
   ]
  },
  {
   "cell_type": "code",
   "execution_count": 4,
   "id": "a6f02fb5-6cb5-47ac-a4f4-26f2e3c50533",
   "metadata": {},
   "outputs": [
    {
     "name": "stdout",
     "output_type": "stream",
     "text": [
      "Generated model in 0.38s with 1000000 samples\n"
     ]
    }
   ],
   "source": [
    "start_time = time.time()\n",
    "num_train_samples = 1000000\n",
    "train_samples= sampler.gen_samples(eta=eta, num_samples=num_train_samples)\n",
    "model = train_kNN_model(train_samples)\n",
    "\n",
    "print(f\"Generated model in {time.time() - start_time:.2f}s with {num_train_samples} samples\")"
   ]
  },
  {
   "cell_type": "code",
   "execution_count": 5,
   "id": "3a08db33-d1c5-4c5e-8a54-7dc1adde1c78",
   "metadata": {},
   "outputs": [
    {
     "name": "stdout",
     "output_type": "stream",
     "text": [
      "Generated 100000 testing samples in 0.00s\n"
     ]
    }
   ],
   "source": [
    "start_time = time.time()\n",
    "num_test_samples = 100000\n",
    "samples = sampler.gen_samples(eta=1, num_samples=num_test_samples)\n",
    "print(f\"Generated {num_test_samples} testing samples in {time.time() - start_time:.2f}s\")"
   ]
  },
  {
   "cell_type": "code",
   "execution_count": 6,
   "id": "5a665ac3-a47c-4c4d-8bb6-5fee5a4f4fa2",
   "metadata": {},
   "outputs": [
    {
     "name": "stdout",
     "output_type": "stream",
     "text": [
      "(alpha, beta) w.r.t 1.2 is (0.33136, 0.27614000000000005) [Computation time is 25.95]\n"
     ]
    }
   ],
   "source": [
    "start_time = time.time()\n",
    "alpha = 1 - model.score(samples['X'][:num_test_samples], samples['y'][:num_test_samples])\n",
    "beta = 1 - model.score(samples['X'][num_test_samples:], samples['y'][num_test_samples:])\n",
    "print(f\"(alpha, beta) w.r.t {eta} is ({alpha}, {beta}) [Computation time is {time.time() - start_time:.2f}]\")"
   ]
  },
  {
   "cell_type": "markdown",
   "id": "565bd966-382b-4119-ba15-6d867df1cea6",
   "metadata": {},
   "source": [
    "### 4 Estimate $(\\alpha(\\eta), \\beta(\\eta))$ for $\\eta < 1$"
   ]
  },
  {
   "cell_type": "code",
   "execution_count": 7,
   "id": "410d98e8-3f54-4bd2-b7ad-f82a3d3396f5",
   "metadata": {},
   "outputs": [
    {
     "data": {
      "text/plain": [
       "(array(0.18393972), array(0.5))"
      ]
     },
     "execution_count": 7,
     "metadata": {},
     "output_type": "execute_result"
    }
   ],
   "source": [
    "eta=0.39\n",
    "Laplace_compute_tradeoff_curve(eta)"
   ]
  },
  {
   "cell_type": "code",
   "execution_count": null,
   "id": "30e89fa5-cce2-4de0-8b21-9ad9f1e19c8f",
   "metadata": {},
   "outputs": [
    {
     "name": "stdout",
     "output_type": "stream",
     "text": [
      "Generated model in 0.02s with 100000 samples\n"
     ]
    }
   ],
   "source": [
    "start_time = time.time()\n",
    "num_train_samples = 100000\n",
    "train_samples= sampler.gen_samples(eta=eta, num_samples=num_train_samples)\n",
    "model = train_kNN_model(train_samples)\n",
    "\n",
    "print(f\"Generated model in {time.time() - start_time:.2f}s with {num_train_samples} samples\")"
   ]
  },
  {
   "cell_type": "code",
   "execution_count": 9,
   "id": "510539f8-6bb8-4209-acbe-32d3bec8a3e5",
   "metadata": {},
   "outputs": [
    {
     "name": "stdout",
     "output_type": "stream",
     "text": [
      "Generated 100000 testing samples in 0.00s\n"
     ]
    }
   ],
   "source": [
    "start_time = time.time()\n",
    "num_test_samples = 100000\n",
    "samples = sampler.gen_samples(eta=1, num_samples=num_test_samples)\n",
    "print(f\"Generated {num_test_samples} testing samples in {time.time() - start_time:.2f}s\")"
   ]
  },
  {
   "cell_type": "code",
   "execution_count": 10,
   "id": "c5e42488-bc42-4fec-bc71-8e1c7a13f5de",
   "metadata": {},
   "outputs": [
    {
     "name": "stdout",
     "output_type": "stream",
     "text": [
      "(alpha, beta) w.r.t 0.39 is (0.18662999999999996, 0.49338000000000004) [Computation time is 5.09]\n"
     ]
    }
   ],
   "source": [
    "start_time = time.time()\n",
    "alpha = 1 - model.score(samples['X'][:num_test_samples], samples['y'][:num_test_samples])\n",
    "beta = 1 - model.score(samples['X'][num_test_samples:], samples['y'][num_test_samples:])\n",
    "print(f\"(alpha, beta) w.r.t {eta} is ({alpha}, {beta}) [Computation time is {time.time() - start_time:.2f}]\")"
   ]
  }
 ],
 "metadata": {
  "kernelspec": {
   "display_name": "Python (fdp-env with OpenBLAS)",
   "language": "python",
   "name": "fdp-env-custom"
  }
 },
 "nbformat": 4,
 "nbformat_minor": 5
}
