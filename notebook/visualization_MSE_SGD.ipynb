{
 "cells": [
  {
   "cell_type": "code",
   "execution_count": 2,
   "metadata": {},
   "outputs": [],
   "source": [
    "import os\n",
    "import glob\n",
    "import pandas as pd\n",
    "import numpy as np\n",
    "from scipy.stats import norm\n",
    "\n",
    "# Define the root directory containing the subfolders\n",
    "root_dir = os.path.expanduser(\"~/fdp-estimation/results/results_SGD\")\n",
    "\n",
    "# Find all subfolders in the root directory\n",
    "subfolders = [f.path for f in os.scandir(root_dir) if f.is_dir()]\n",
    "\n",
    "# Placeholder for storing overall results\n",
    "overall_results = []"
   ]
  },
  {
   "cell_type": "code",
   "execution_count": 1,
   "metadata": {},
   "outputs": [],
   "source": [
    "import numpy as np\n",
    "from scipy.stats import norm\n",
    "from itertools import combinations\n",
    "\n",
    "def calc_mu(x, m, eta_learn, T_):\n",
    "    \"\"\"\n",
    "    Calculate mu based on the given parameters.\n",
    "    \"\"\"\n",
    "    mu = np.sum(eta_learn * (1 - eta_learn)**(T_ - np.array(x)) / m)\n",
    "    return mu\n",
    "\n",
    "# Initialize mu_vector\n",
    "mu_vector = []\n",
    "\n",
    "# Define parameters\n",
    "n=10\n",
    "sigma = 0.2\n",
    "theta_0 = 0\n",
    "m = 5\n",
    "eta_learn = 0.2\n",
    "T_ = 10\n",
    "x1 = np.zeros(n)\n",
    "x2 = np.array([1] + [0] * (n-1))\n",
    "\n",
    "h = 0.1\n",
    "eta_max = 15\n",
    "for k in range(1, T_ + 1):\n",
    "    k_combinations = list(combinations(range(1, T_ + 1), k))\n",
    "    mu_values = [calc_mu(x, m=m, eta_learn=eta_learn, T_=T_) for x in k_combinations]\n",
    "    mu_vector.extend(mu_values)\n",
    "\n",
    "# Calculate sigma_tilde\n",
    "sigma_tilde = eta_learn * sigma * np.sqrt((1 - (1 - eta_learn)**(2 * T_)) / (1 - (1 - eta_learn)**2))\n",
    "\n",
    "def SGD_Curve(alpha):\n",
    "    \"\"\"\n",
    "    Compute the SGD curve for a given alpha.\n",
    "    \"\"\"\n",
    "    sgd_sum = np.sum(norm.cdf(norm.ppf(1 - alpha) - np.array(mu_vector) / sigma_tilde) / 2**T_)\n",
    "    return sgd_sum\n",
    "\n"
   ]
  },
  {
   "cell_type": "code",
   "execution_count": 2,
   "metadata": {},
   "outputs": [
    {
     "data": {
      "text/plain": [
       "0.3252972912981455"
      ]
     },
     "execution_count": 2,
     "metadata": {},
     "output_type": "execute_result"
    }
   ],
   "source": [
    "SGD_Curve(alpha=0.2)"
   ]
  },
  {
   "cell_type": "code",
   "execution_count": 19,
   "metadata": {},
   "outputs": [
    {
     "name": "stdout",
     "output_type": "stream",
     "text": [
      "Processing subfolder: /home/martin/fdp-estimation/results/results_SGD/results_SGD_N10000\n",
      "Saved maximum errors for subfolder: /home/martin/fdp-estimation/results/results_SGD/results_SGD_N10000\n",
      "Processing subfolder: /home/martin/fdp-estimation/results/results_SGD/results_SGD_N1000\n",
      "Saved maximum errors for subfolder: /home/martin/fdp-estimation/results/results_SGD/results_SGD_N1000\n",
      "Processing subfolder: /home/martin/fdp-estimation/results/results_SGD/results_SGD_N1000000\n",
      "Saved maximum errors for subfolder: /home/martin/fdp-estimation/results/results_SGD/results_SGD_N1000000\n",
      "Processing subfolder: /home/martin/fdp-estimation/results/results_SGD/results_SGD_N100\n",
      "Saved maximum errors for subfolder: /home/martin/fdp-estimation/results/results_SGD/results_SGD_N100\n",
      "Processing subfolder: /home/martin/fdp-estimation/results/results_SGD/results_SGD_N100000\n",
      "Saved maximum errors for subfolder: /home/martin/fdp-estimation/results/results_SGD/results_SGD_N100000\n",
      "Saved overall maximum errors to: /home/martin/fdp-estimation/results/results_SGD/overall_max_errors.csv\n"
     ]
    }
   ],
   "source": [
    "# Iterate through each subfolder\n",
    "for subfolder in subfolders:\n",
    "    print(f\"Processing subfolder: {subfolder}\")\n",
    "\n",
    "    # Find all CSV files in the current subfolder\n",
    "    csv_files = glob.glob(os.path.join(subfolder, \"*.csv\"))\n",
    "\n",
    "    # Placeholder for storing subfolder-specific results\n",
    "    subfolder_results = []\n",
    "\n",
    "    for file in csv_files:\n",
    "        # Read the CSV file\n",
    "        data = pd.read_csv(file)\n",
    "\n",
    "        # Ensure the CSV contains 'alpha' and 'beta' columns\n",
    "        if 'alpha' not in data.columns or 'beta' not in data.columns:\n",
    "            print(f\"Skipping {file}: Missing required columns 'alpha' and 'beta'.\")\n",
    "            continue\n",
    "\n",
    "        # Filter the data to only include rows where 0 <= alpha <= 1\n",
    "        filtered_data = data[(data['alpha'] >= 0) & (data['alpha'] <= 1)]\n",
    "\n",
    "        # Skip if no valid rows remain\n",
    "        if filtered_data.empty:\n",
    "            print(f\"Skipping {file}: No valid alpha values between 0 and 1.\")\n",
    "            continue\n",
    "\n",
    "        # Compute the maximum error for the current file\n",
    "        alpha_values = filtered_data['alpha'].values\n",
    "        beta_values = filtered_data['beta'].values\n",
    "        f_values = np.array([SGD_Curve(alpha) for alpha in alpha_values])\n",
    "        max_error = np.max(np.abs(f_values - beta_values))\n",
    "\n",
    "        # Store the result\n",
    "        result = {\n",
    "            \"file\": file,\n",
    "            \"max_error\": max_error\n",
    "        }\n",
    "        subfolder_results.append(result)\n",
    "\n",
    "    # Convert subfolder results to a DataFrame\n",
    "    subfolder_df = pd.DataFrame(subfolder_results)\n",
    "\n",
    "\n",
    "    # Save the subfolder-specific results to a new CSV\n",
    "    output_file = os.path.join(subfolder, \"max_errors.csv\")\n",
    "    subfolder_df.to_csv(output_file, index=False)\n",
    "    print(f\"Saved maximum errors for subfolder: {subfolder}\")\n",
    "\n",
    "    # Append to overall results\n",
    "    overall_results.extend(subfolder_results)\n",
    "\n",
    "# Convert overall results to a DataFrame\n",
    "overall_df = pd.DataFrame(overall_results)\n",
    "\n",
    "# Save the overall results\n",
    "overall_output_file = os.path.join(root_dir, \"overall_max_errors.csv\")\n",
    "overall_df.to_csv(overall_output_file, index=False)\n",
    "print(f\"Saved overall maximum errors to: {overall_output_file}\")\n",
    "\n",
    "# Extract alpha and beta for plotting\n",
    "#alpha = output_df[\"alpha\"]\n",
    "#beta = output_df[\"beta\"]"
   ]
  },
  {
   "cell_type": "code",
   "execution_count": 4,
   "metadata": {},
   "outputs": [],
   "source": [
    "def compute_mse_from_csv(file_path):\n",
    "    data = pd.read_csv(file_path)\n",
    "    errors = data[\"max_error\"].values\n",
    "    \n",
    "    # Compute the Mean Squared Error\n",
    "    mse = np.mean(errors)**2+np.var(errors)\n",
    "    return mse\n",
    "mse_100=compute_mse_from_csv(\"~/fdp-estimation/results/results_SGD/results_SGD_N100/max_errors.csv\")\n",
    "mse_1000=compute_mse_from_csv(\"~/fdp-estimation/results/results_SGD/results_SGD_N1000/max_errors.csv\")\n",
    "mse_10000=compute_mse_from_csv(\"~/fdp-estimation/results/results_SGD/results_SGD_N10000/max_errors.csv\")\n",
    "mse_100000=compute_mse_from_csv(\"~/fdp-estimation/results/results_SGD/results_SGD_N100000/max_errors.csv\")\n",
    "mse_1000000=compute_mse_from_csv(\"~/fdp-estimation/results/results_SGD/results_SGD_N1000000/max_errors.csv\")\n",
    "mse_values = {\n",
    "    \"N\": [100, 1000, 10000, 100000, 1000000],\n",
    "    \"Mean Squared Error\": [\n",
    "        # Replace these with the actual MSE values if known\n",
    "        mse_100, \n",
    "        mse_1000, \n",
    "        mse_10000, \n",
    "        mse_100000, \n",
    "        mse_1000000\n",
    "    ]\n",
    "}\n",
    "mse_df = pd.DataFrame(mse_values)\n",
    "mse_df.to_csv(\"mse_values.csv\", index=False)"
   ]
  }
 ],
 "metadata": {
  "kernelspec": {
   "display_name": "Python 3.9 (Default)",
   "language": "python",
   "name": "python3"
  },
  "language_info": {
   "codemirror_mode": {
    "name": "ipython",
    "version": 3
   },
   "file_extension": ".py",
   "mimetype": "text/x-python",
   "name": "python",
   "nbconvert_exporter": "python",
   "pygments_lexer": "ipython3",
   "version": "3.9.7"
  }
 },
 "nbformat": 4,
 "nbformat_minor": 4
}
