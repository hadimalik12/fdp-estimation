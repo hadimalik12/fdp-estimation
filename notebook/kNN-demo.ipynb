{
 "cells": [
  {
   "cell_type": "code",
   "execution_count": 8,
   "id": "166863bc-eb8c-4ca6-9ef7-170a7b64faef",
   "metadata": {},
   "outputs": [],
   "source": [
    "import numpy as np\n",
    "import os\n",
    "import sys\n",
    "import time\n",
    "import logging\n",
    "import matplotlib.pyplot as plt\n",
    "\n",
    "# Navigate to the parent directory of the project structure\n",
    "project_dir = os.path.abspath(os.path.join(os.getcwd(), '..'))\n",
    "src_dir = os.path.join(project_dir, 'src')\n",
    "\n",
    "# Add the src directory to sys.path\n",
    "sys.path.append(src_dir)\n",
    "\n",
    "import mech.GaussianDist as GaussianModule\n",
    "import mech.LapDist as LaplaceModule\n",
    "import mech.toy_DPSGD as DP_SGDModule\n",
    "import mech.Subsampling as SubsamplingModule"
   ]
  },
  {
   "cell_type": "markdown",
   "id": "729acb24-8a1c-4302-ad14-93a3ea9903c4",
   "metadata": {},
   "source": [
    "## 1 Example code of Gaussian Mechanism"
   ]
  },
  {
   "cell_type": "code",
   "execution_count": 11,
   "id": "f6facff0-c766-4869-87f0-8f88c09c8781",
   "metadata": {},
   "outputs": [],
   "source": [
    "test_train_sample_size = 100000\n",
    "test_test_sample_size = 100000\n",
    "eta = np.array([0.5])\n",
    "\n",
    "kwargs = GaussianModule.generate_params(num_train_samples = test_train_sample_size, num_test_samples = test_test_sample_size)\n",
    "estimator = GaussianModule.GaussianDistEstimator(kwargs)\n",
    "output = estimator.build(eta = eta)\n",
    "beta_estimate = output[\"beta\"]"
   ]
  },
  {
   "cell_type": "markdown",
   "id": "cd07e09c-cbd4-415d-ae2d-0c4475eaeded",
   "metadata": {},
   "source": [
    "### 1.1 Parameters of the tested Gaussian (with N(0, 1) and N(1, 1))"
   ]
  },
  {
   "cell_type": "code",
   "execution_count": 12,
   "id": "f2dfb7a4-1b45-4e19-afc8-c339b475c510",
   "metadata": {},
   "outputs": [
    {
     "data": {
      "text/plain": [
       "{'dist': {'mean0': array([0]),\n",
       "  'cov0': array([[1]]),\n",
       "  'mean1': array([1]),\n",
       "  'cov1': array([[1]])},\n",
       " 'num_train_samples': 100000,\n",
       " 'num_test_samples': 100000}"
      ]
     },
     "execution_count": 12,
     "metadata": {},
     "output_type": "execute_result"
    }
   ],
   "source": [
    "kwargs"
   ]
  },
  {
   "cell_type": "markdown",
   "id": "ce8c2afb-ec04-426b-8069-96e26c7e6632",
   "metadata": {},
   "source": [
    "## 2 Example code of other mechanisms, which have the similar API "
   ]
  },
  {
   "cell_type": "code",
   "execution_count": 3,
   "id": "d25587f8-ff5b-49c7-a113-9eed7d96075c",
   "metadata": {},
   "outputs": [],
   "source": [
    "kwargs = LaplaceModule.generate_params(num_train_samples = test_train_sample_size, num_test_samples = test_test_sample_size)\n",
    "estimator = LaplaceModule.LapDistEstimator(kwargs)\n",
    "output = estimator.build(eta = eta)\n",
    "beta_estimate = output[\"beta\"]"
   ]
  },
  {
   "cell_type": "code",
   "execution_count": 6,
   "id": "4c96a481-6493-4cdd-8961-677d2e52392c",
   "metadata": {},
   "outputs": [],
   "source": [
    "kwargs = DP_SGDModule.generate_params(num_train_samples = 100000, num_test_samples = 100000)\n",
    "estimator = DP_SGDModule.toy_DPSGDEstimator(kwargs)\n",
    "output = estimator.build(eta = eta)\n",
    "beta_estimate = output[\"beta\"]"
   ]
  },
  {
   "cell_type": "code",
   "execution_count": 9,
   "id": "927d126a-7afa-4bf9-bfcf-ba3d3a14f7b2",
   "metadata": {},
   "outputs": [],
   "source": [
    "kwargs = SubsamplingModule.generate_params(num_train_samples = 100000, num_test_samples = 100000)\n",
    "estimator = SubsamplingModule.SubsamplingEstimator(kwargs)\n",
    "output = estimator.build(eta = eta)\n",
    "beta_estimate = output[\"beta\"]"
   ]
  },
  {
   "cell_type": "markdown",
   "id": "78a2991c-45a9-490a-825a-ae087b6c3a62",
   "metadata": {},
   "source": [
    "## 3 Set parameters for theoretical accuracy bound"
   ]
  },
  {
   "cell_type": "markdown",
   "id": "fef96bd1-b359-4a4e-ad72-53b1255a193a",
   "metadata": {},
   "source": [
    "Below says we need num_train_samples = 10^9 and num_test_samples = 10^7 to get error within 10^-3 with probability gamma = 0.05"
   ]
  },
  {
   "cell_type": "markdown",
   "id": "0fc753cf-a446-41ef-9b87-abac39b647ab",
   "metadata": {},
   "source": [
    "Yet, in fact, much less samples needed, the theoretical bound should be able to improve"
   ]
  },
  {
   "cell_type": "code",
   "execution_count": 13,
   "id": "bfbb397b-b3be-40a1-8c2d-c1dbf67ddb1b",
   "metadata": {},
   "outputs": [
    {
     "name": "stdout",
     "output_type": "stream",
     "text": [
      "0.004340473891924778\n"
     ]
    }
   ],
   "source": [
    "def compute_expression(n, gamma):\n",
    "    c_d = 3.8637  # Given value of c_d\n",
    "    result = 12 * np.sqrt((2 * c_d ** 2 / n) * np.log(4 / gamma))\n",
    "    return result\n",
    "\n",
    "# Example usage:\n",
    "n = 10**9  # Example value for n\n",
    "gamma = 0.05  # Example value for gamma\n",
    "print(compute_expression(n, gamma))"
   ]
  },
  {
   "cell_type": "code",
   "execution_count": null,
   "id": "2c07dbc7-558b-4d51-a724-c15968b77f5c",
   "metadata": {},
   "outputs": [],
   "source": []
  }
 ],
 "metadata": {
  "kernelspec": {
   "display_name": "Python 3.9 (Default)",
   "language": "python",
   "name": "python3"
  },
  "language_info": {
   "codemirror_mode": {
    "name": "ipython",
    "version": 3
   },
   "file_extension": ".py",
   "mimetype": "text/x-python",
   "name": "python",
   "nbconvert_exporter": "python",
   "pygments_lexer": "ipython3",
   "version": "3.9.7"
  }
 },
 "nbformat": 4,
 "nbformat_minor": 5
}
