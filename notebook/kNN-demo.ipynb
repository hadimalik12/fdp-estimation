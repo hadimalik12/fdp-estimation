{
 "cells": [
  {
   "cell_type": "code",
   "execution_count": 1,
   "id": "166863bc-eb8c-4ca6-9ef7-170a7b64faef",
   "metadata": {},
   "outputs": [],
   "source": [
    "import numpy as np\n",
    "import os\n",
    "import sys\n",
    "import time\n",
    "import logging\n",
    "import matplotlib.pyplot as plt\n",
    "\n",
    "# Navigate to the parent directory of the project structure\n",
    "project_dir = os.path.abspath(os.path.join(os.getcwd(), '..'))\n",
    "src_dir = os.path.join(project_dir, 'src')\n",
    "\n",
    "# Add the src directory to sys.path\n",
    "sys.path.append(src_dir)\n",
    "\n",
    "import mech.GaussianDist as GaussianModule\n",
    "import mech.LapDist as LaplaceModule"
   ]
  },
  {
   "cell_type": "code",
   "execution_count": 2,
   "id": "f6facff0-c766-4869-87f0-8f88c09c8781",
   "metadata": {},
   "outputs": [],
   "source": [
    "test_train_sample_size = 100000\n",
    "test_test_sample_size = 100000\n",
    "eta = np.array([0.5])\n",
    "\n",
    "kwargs = GaussianModule.generate_params(num_train_samples = test_train_sample_size, num_test_samples = test_test_sample_size)\n",
    "estimator = GaussianModule.GaussianDistEstimator(kwargs)\n",
    "output = estimator.build(eta = eta)\n",
    "beta_estimate = output[\"beta\"]"
   ]
  },
  {
   "cell_type": "code",
   "execution_count": 3,
   "id": "d25587f8-ff5b-49c7-a113-9eed7d96075c",
   "metadata": {},
   "outputs": [],
   "source": [
    "kwargs = LaplaceModule.generate_params(num_train_samples = test_train_sample_size, num_test_samples = test_test_sample_size)\n",
    "estimator = LaplaceModule.LapDistEstimator(kwargs)\n",
    "output = estimator.build(eta = eta)\n",
    "beta_estimate = output[\"beta\"]"
   ]
  },
  {
   "cell_type": "code",
   "execution_count": 4,
   "id": "4c96a481-6493-4cdd-8961-677d2e52392c",
   "metadata": {},
   "outputs": [
    {
     "data": {
      "text/plain": [
       "array([0.42839])"
      ]
     },
     "execution_count": 4,
     "metadata": {},
     "output_type": "execute_result"
    }
   ],
   "source": [
    "beta_estimate"
   ]
  },
  {
   "cell_type": "code",
   "execution_count": null,
   "id": "0975088d-5b00-4df6-b8a3-87fbfbad3bae",
   "metadata": {},
   "outputs": [],
   "source": []
  }
 ],
 "metadata": {
  "kernelspec": {
   "display_name": "Python 3.9 (Default)",
   "language": "python",
   "name": "python3"
  },
  "language_info": {
   "codemirror_mode": {
    "name": "ipython",
    "version": 3
   },
   "file_extension": ".py",
   "mimetype": "text/x-python",
   "name": "python",
   "nbconvert_exporter": "python",
   "pygments_lexer": "ipython3",
   "version": "3.9.7"
  }
 },
 "nbformat": 4,
 "nbformat_minor": 5
}
